{
 "cells": [
  {
   "cell_type": "code",
   "execution_count": 1,
   "id": "46f676b8-0856-4794-aed3-ffd24968b6db",
   "metadata": {},
   "outputs": [],
   "source": [
    "from IPython.display import Image\n",
    "import numpy as np\n",
    "import tensorflow as tf\n",
    "from tensorflow import keras\n",
    "from tensorflow.keras.layers import Dense, Activation\n",
    "from tensorflow.keras.optimizers import Adam\n",
    "from tensorflow.keras.metrics import categorical_crossentropy\n",
    "from tensorflow.keras.preprocessing.image import ImageDataGenerator\n",
    "from tensorflow.keras.preprocessing import image\n",
    "from tensorflow.keras.models import Model\n",
    "from tensorflow.keras.applications import imagenet_utils\n",
    "from sklearn.metrics import confusion_matrix\n",
    "from tensorflow.keras.utils import to_categorical\n",
    "import itertools\n",
    "import os\n",
    "import shutil\n",
    "import random\n",
    "import matplotlib.pyplot as plt\n",
    "%matplotlib inline"
   ]
  },
  {
   "cell_type": "code",
   "execution_count": 3,
   "id": "515c3df3-066e-4571-bcfb-1c2ff3553802",
   "metadata": {},
   "outputs": [],
   "source": [
    "import shutil, random, os, glob\n",
    "import math"
   ]
  },
  {
   "cell_type": "code",
   "execution_count": 3,
   "id": "4f255b0a-8243-40ff-8a1d-cc9ee81afbb8",
   "metadata": {},
   "outputs": [],
   "source": [
    "dataset = \"/home/romulo/Documents/IFRS/6Semestre/TCC_APP/datasets/dataset\""
   ]
  },
  {
   "cell_type": "code",
   "execution_count": 4,
   "id": "80d3363c-25dd-4fc2-8e02-c1d499eab940",
   "metadata": {},
   "outputs": [],
   "source": [
    "residuo_path = dataset + 'residuo/*'\n",
    "reciclavel_path = dataset + 'reciclavel/*'\n",
    "organico_path = dataset + 'organico/*'"
   ]
  },
  {
   "cell_type": "code",
   "execution_count": 5,
   "id": "3bafab5a-31ce-4b76-b851-7e74b492efd8",
   "metadata": {},
   "outputs": [],
   "source": [
    "os.chdir(dataset)\n",
    "shutil.rmtree('train/residuo')\n",
    "shutil.rmtree('validate/residuo')\n",
    "shutil.rmtree('teste/residuo')\n",
    "shutil.rmtree('train/reciclavel')\n",
    "shutil.rmtree('validate/reciclavel')\n",
    "shutil.rmtree('teste/reciclavel')\n",
    "shutil.rmtree('train/organico')\n",
    "shutil.rmtree('validate/organico')\n",
    "shutil.rmtree('teste/organico')\n",
    "if os.path.isdir('train/residuo') is False:\n",
    "  os.makedirs('train/residuo')\n",
    "  os.makedirs('train/reciclavel')\n",
    "  os.makedirs('train/organico')\n",
    "  os.makedirs('validate/residuo')\n",
    "  os.makedirs('validate/reciclavel')\n",
    "  os.makedirs('validate/organico')\n",
    "  os.makedirs('teste/residuo')\n",
    "  os.makedirs('teste/reciclavel')\n",
    "  os.makedirs('teste/organico')\n",
    "\n",
    "  \n",
    "\n",
    "for c in random.sample(glob.glob('residuo/*'), math.trunc(len(glob.glob('residuo/*'))*0.7)):    \n",
    "  shutil.move(c, 'train/residuo')\n",
    "for c in random.sample(glob.glob('residuo/*'), math.trunc(len(glob.glob('residuo/*'))*0.5)):\n",
    "  shutil.move(c, 'teste/residuo')\n",
    "for c in random.sample(glob.glob('residuo/*'), math.trunc(len(glob.glob('residuo/*')))):\n",
    "  shutil.move(c, 'validate/residuo')\n",
    "\n",
    "for c in random.sample(glob.glob('reciclavel/*'), math.trunc(len(glob.glob('reciclavel/*'))*0.7)):\n",
    "  shutil.move(c, 'train/reciclavel')\n",
    "for c in random.sample(glob.glob('reciclavel/*'), math.trunc(len(glob.glob('reciclavel/*'))*0.5)):\n",
    "  shutil.move(c, 'teste/reciclavel')\n",
    "for c in random.sample(glob.glob('reciclavel/*'), math.trunc(len(glob.glob('reciclavel/*')))):\n",
    "  shutil.move(c, 'validate/reciclavel')\n",
    "\n",
    "for c in random.sample(glob.glob('organico/*'), math.trunc(len(glob.glob('organico/*'))*0.7)):\n",
    "  shutil.move(c, 'train/organico')\n",
    "for c in random.sample(glob.glob('organico/*'), math.trunc(len(glob.glob('organico/*'))*0.5)):\n",
    "  shutil.move(c, 'teste/organico')\n",
    "for c in random.sample(glob.glob('organico/*'), math.trunc(len(glob.glob('organico/*')))):\n",
    "  shutil.move(c, 'validate/organico')"
   ]
  },
  {
   "cell_type": "code",
   "execution_count": 6,
   "id": "d5fd3a4a-f5ea-432b-9c72-bf858635848e",
   "metadata": {},
   "outputs": [
    {
     "name": "stdout",
     "output_type": "stream",
     "text": [
      "1657\n",
      "355\n",
      "356\n",
      "3\n",
      "1\n",
      "1\n",
      "14\n",
      "3\n",
      "3\n"
     ]
    }
   ],
   "source": [
    "print(len(glob.glob('train/reciclavel/*')))\n",
    "print(len(glob.glob('teste/reciclavel/*')))\n",
    "print(len(glob.glob('validate/reciclavel/*')))\n",
    "print(len(glob.glob('train/organico/*')))\n",
    "print(len(glob.glob('teste/organico/*')))\n",
    "print(len(glob.glob('validate/organico/*')))\n",
    "print(len(glob.glob('train/residuo/*')))\n",
    "print(len(glob.glob('teste/residuo/*')))\n",
    "print(len(glob.glob('validate/residuo/*')))"
   ]
  },
  {
   "cell_type": "code",
   "execution_count": 7,
   "id": "d7fd598a-ee32-4934-ae17-ec552efff03f",
   "metadata": {},
   "outputs": [],
   "source": [
    "path_train = dataset + '/train'\n",
    "path_test = dataset + '/teste'\n",
    "path_validate = dataset + '/validate'"
   ]
  },
  {
   "cell_type": "code",
   "execution_count": 8,
   "id": "e45b7ee4-cc16-445f-8b93-aac1f3a8a5a5",
   "metadata": {},
   "outputs": [
    {
     "name": "stdout",
     "output_type": "stream",
     "text": [
      "Found 1674 images belonging to 3 classes.\n",
      "Found 360 images belonging to 3 classes.\n",
      "Found 359 images belonging to 3 classes.\n"
     ]
    }
   ],
   "source": [
    "IMAGE_SIZE = (224,224)\n",
    "train_batches = ImageDataGenerator().flow_from_directory(directory = path_train, target_size = (IMAGE_SIZE), batch_size =10)\n",
    "validate_batches = ImageDataGenerator().flow_from_directory(directory = path_validate , target_size = (IMAGE_SIZE), batch_size = 10)\n",
    "test_batches = ImageDataGenerator().flow_from_directory(directory = path_test, target_size = (IMAGE_SIZE), batch_size = 10, shuffle = False)"
   ]
  },
  {
   "cell_type": "code",
   "execution_count": 2,
   "id": "b41b37bb-5b4a-4878-b456-9d569e64a8e6",
   "metadata": {},
   "outputs": [],
   "source": [
    "model = tf.keras.applications.MobileNetV3Large(input_shape=(224,224, 3), alpha=1.0, minimalistic=False, include_top=True,\n",
    "    weights='imagenet', input_tensor=None, classes=1000, pooling=None,\n",
    "    dropout_rate=0.2, classifier_activation='softmax', include_preprocessing=True)"
   ]
  },
  {
   "cell_type": "code",
   "execution_count": 3,
   "id": "6061c138-12e2-40e7-92db-467a296d66d9",
   "metadata": {},
   "outputs": [],
   "source": [
    "last_layer = model.layers[-1].output\n",
    "output = Dense(units = 3, activation = 'softmax')(last_layer)\n",
    "transfer_learning_model = Model(inputs = model.input, outputs = output)"
   ]
  },
  {
   "cell_type": "code",
   "execution_count": 21,
   "id": "3e7e6c5d-7ada-499f-99c8-fb626ede986c",
   "metadata": {},
   "outputs": [],
   "source": [
    "for layer in model.layers[:-23]:\n",
    "  layer.trainable = False"
   ]
  },
  {
   "cell_type": "markdown",
   "id": "64d8d225-8041-4d61-bc40-e8fd7bbb628c",
   "metadata": {},
   "source": [
    "optimizer='rmsprop', loss='categorical_crossentropy' kullback_leibler_divergence"
   ]
  },
  {
   "cell_type": "code",
   "execution_count": 3,
   "id": "0df12f28-4076-4085-b751-02cf877df61b",
   "metadata": {},
   "outputs": [
    {
     "ename": "NameError",
     "evalue": "name 'transfer_learning_model' is not defined",
     "output_type": "error",
     "traceback": [
      "\u001b[0;31m---------------------------------------------------------------------------\u001b[0m",
      "\u001b[0;31mNameError\u001b[0m                                 Traceback (most recent call last)",
      "\u001b[0;32m<ipython-input-3-7932cf3f1c11>\u001b[0m in \u001b[0;36m<module>\u001b[0;34m\u001b[0m\n\u001b[0;32m----> 1\u001b[0;31m \u001b[0mtransfer_learning_model\u001b[0m\u001b[0;34m.\u001b[0m\u001b[0mcompile\u001b[0m\u001b[0;34m(\u001b[0m\u001b[0moptimizer\u001b[0m\u001b[0;34m=\u001b[0m \u001b[0mAdam\u001b[0m\u001b[0;34m(\u001b[0m\u001b[0mlearning_rate\u001b[0m \u001b[0;34m=\u001b[0m \u001b[0;36m0.0001\u001b[0m\u001b[0;34m)\u001b[0m\u001b[0;34m,\u001b[0m \u001b[0mloss\u001b[0m\u001b[0;34m=\u001b[0m\u001b[0;34m'categorical_crossentropy'\u001b[0m\u001b[0;34m,\u001b[0m \u001b[0mmetrics\u001b[0m\u001b[0;34m=\u001b[0m\u001b[0;34m[\u001b[0m\u001b[0;34m'accuracy'\u001b[0m\u001b[0;34m]\u001b[0m\u001b[0;34m)\u001b[0m\u001b[0;34m\u001b[0m\u001b[0;34m\u001b[0m\u001b[0m\n\u001b[0m",
      "\u001b[0;31mNameError\u001b[0m: name 'transfer_learning_model' is not defined"
     ]
    }
   ],
   "source": [
    "transfer_learning_model.compile(optimizer= Adam(learning_rate = 0.0001), loss='categorical_crossentropy', metrics=['accuracy'])"
   ]
  },
  {
   "cell_type": "code",
   "execution_count": 13,
   "id": "dc93ecf2-f0f9-4d2d-8269-13063345eae7",
   "metadata": {},
   "outputs": [
    {
     "name": "stdout",
     "output_type": "stream",
     "text": [
      "Epoch 1/5\n",
      "168/168 - 59s - loss: 1.0146 - accuracy: 0.9594 - val_loss: 0.9762 - val_accuracy: 0.9889\n",
      "Epoch 2/5\n",
      "168/168 - 54s - loss: 0.9551 - accuracy: 0.9898 - val_loss: 0.9346 - val_accuracy: 0.9889\n",
      "Epoch 3/5\n",
      "168/168 - 55s - loss: 0.9147 - accuracy: 0.9898 - val_loss: 0.8955 - val_accuracy: 0.9889\n",
      "Epoch 4/5\n",
      "168/168 - 94s - loss: 0.8764 - accuracy: 0.9898 - val_loss: 0.8581 - val_accuracy: 0.9889\n",
      "Epoch 5/5\n",
      "168/168 - 106s - loss: 0.8399 - accuracy: 0.9898 - val_loss: 0.8225 - val_accuracy: 0.9889\n"
     ]
    }
   ],
   "source": [
    "history = transfer_learning_model.fit(x=train_batches,\n",
    "            steps_per_epoch=len(train_batches),\n",
    "            validation_data=validate_batches,\n",
    "            validation_steps=len(validate_batches),\n",
    "            epochs=5,\n",
    "            verbose=2)"
   ]
  },
  {
   "cell_type": "code",
   "execution_count": 14,
   "id": "b32d2735",
   "metadata": {},
   "outputs": [
    {
     "data": {
      "image/png": "[encoded data removed]",
      "text/plain": [
       "<Figure size 432x288 with 1 Axes>"
      ]
     },
     "metadata": {
      "needs_background": "light"
     },
     "output_type": "display_data"
    }
   ],
   "source": [
    "loss_train = history.history['accuracy']\n",
    "loss_val = history.history['val_accuracy']\n",
    "epochs = range(1,6)\n",
    "plt.plot(epochs, loss_train, 'g', label='Acurácia-Treino')\n",
    "plt.plot(epochs, loss_val, 'b', label='Acurácia-Validação')\n",
    "plt.title('Acurácia durante o treino e validação sem Data Augmentation')\n",
    "plt.xlabel('Epochs')\n",
    "plt.ylabel('Acurácia')\n",
    "plt.legend()\n",
    "plt.show()"
   ]
  },
  {
   "cell_type": "code",
   "execution_count": 18,
   "id": "c18746e0-0960-41a0-9077-dc56fee4a4dc",
   "metadata": {},
   "outputs": [],
   "source": [
    "def plot_confusion_matrix(cm, classes,\n",
    "                          normalize=False,\n",
    "                          title='Confusion matrix',\n",
    "                          cmap=plt.cm.Blues):\n",
    "    \"\"\"\n",
    "    This function prints and plots the confusion matrix.\n",
    "    Normalization can be applied by setting `normalize=True`.\n",
    "    \"\"\"\n",
    "    plt.imshow(cm, interpolation='nearest', cmap=cmap)\n",
    "    plt.title(title)\n",
    "    plt.colorbar()\n",
    "    tick_marks = np.arange(len(classes))\n",
    "    plt.xticks(tick_marks, classes, rotation=45)\n",
    "    plt.yticks(tick_marks, classes)\n",
    "\n",
    "    if normalize:\n",
    "        cm = cm.astype('float') / cm.sum(axis=1)[:, np.newaxis]\n",
    "        print(\"Normalized confusion matrix\")\n",
    "    else:\n",
    "        print('Confusion matrix, without normalization')\n",
    "\n",
    "    print(cm)\n",
    "\n",
    "    thresh = cm.max() / 2.\n",
    "    for i, j in itertools.product(range(cm.shape[0]), range(cm.shape[1])):\n",
    "        plt.text(j, i, cm[i, j],\n",
    "            horizontalalignment=\"center\",\n",
    "            color=\"white\" if cm[i, j] > thresh else \"black\")\n",
    "\n",
    "    plt.tight_layout()\n",
    "    plt.ylabel('True label')\n",
    "    plt.xlabel('Predicted label')"
   ]
  },
  {
   "cell_type": "code",
   "execution_count": 16,
   "id": "de1c228e-c6c7-4088-a332-08f620c9deeb",
   "metadata": {},
   "outputs": [
    {
     "name": "stdout",
     "output_type": "stream",
     "text": [
      "Confusion matrix, without normalization\n",
      "[[  0   1   0]\n",
      " [  0 355   0]\n",
      " [  0   3   0]]\n"
     ]
    },
    {
     "data": {
      "image/png": "[encoded data removed]",
      "text/plain": [
       "<Figure size 432x288 with 2 Axes>"
      ]
     },
     "metadata": {
      "needs_background": "light"
     },
     "output_type": "display_data"
    }
   ],
   "source": [
    "test_labels = test_batches.classes\n",
    "predictions = transfer_learning_model.predict(x=test_batches, verbose=0)\n",
    "cm = confusion_matrix(y_true = test_labels, y_pred=predictions.argmax(axis=1))\n",
    "cm_plot_labels = test_batches.class_indices\n",
    "plot_confusion_matrix(cm=cm, classes=cm_plot_labels, title=\"Matriz Confusão sem Data Augmentation\")"
   ]
  },
  {
   "cell_type": "code",
   "execution_count": 12,
   "id": "fb330800-9354-4b85-93ac-3366deaa6b1b",
   "metadata": {},
   "outputs": [],
   "source": [
    "gen = ImageDataGenerator(rotation_range=10, width_shift_range=0.1, height_shift_range=0.1, shear_range=0.15, zoom_range=0.1, \n",
    "    channel_shift_range=10., horizontal_flip=True)"
   ]
  },
  {
   "cell_type": "code",
   "execution_count": 18,
   "id": "33e8e934-d3d1-4528-b966-3b821fcdef1a",
   "metadata": {},
   "outputs": [],
   "source": [
    "images_path_residuo = path_train + '/residuo/*'\n",
    "images_path_organico = path_train + '/organico/*'"
   ]
  },
  {
   "cell_type": "code",
   "execution_count": 19,
   "id": "2dce1dba-130c-4dc3-b62f-e30bf9263dcf",
   "metadata": {},
   "outputs": [],
   "source": [
    "for img in glob.glob(images_path_residuo):\n",
    "    \n",
    "    if(os.path.basename(img).startswith(\"aug-image-\")):\n",
    "        continue\n",
    "  \n",
    "    aug_iter = gen.flow(np.expand_dims(plt.imread(img),0),save_to_dir= dataset + '/train/residuo', save_prefix='aug-image-', save_format='jpg')\n",
    " \n",
    "    aug_images = [next(aug_iter)[0].astype(np.uint8) for i in range(10)]\n",
    "\n",
    "\n",
    "for img in glob.glob(images_path_organico):\n",
    "    \n",
    "    if(os.path.basename(img).startswith(\"aug-image-\")):\n",
    "        continue\n",
    "\n",
    "    aug_iter = gen.flow(np.expand_dims(plt.imread(img),0),save_to_dir= dataset + '/train/organico', save_prefix='aug-image-', save_format='jpg')\n",
    "    aug_images = [next(aug_iter)[0].astype(np.uint8) for i in range(10)]\n",
    "\n",
    "for img in glob.glob(path_validate + '/residuo/*'):\n",
    "    \n",
    "    if(os.path.basename(img).startswith(\"aug-image-\")):\n",
    "        continue\n",
    "\n",
    "    aug_iter = gen.flow(np.expand_dims(plt.imread(img),0),save_to_dir= dataset + '/validate/residuo', save_prefix='aug-image-', save_format='jpg')\n",
    "    aug_images = [next(aug_iter)[0].astype(np.uint8) for i in range(10)]\n",
    "\n",
    "for img in glob.glob(path_validate + '/organico/*'):\n",
    "    \n",
    "    if(os.path.basename(img).startswith(\"aug-image-\")):\n",
    "        continue\n",
    "\n",
    "    aug_iter = gen.flow(np.expand_dims(plt.imread(img),0),save_to_dir= dataset + '/validate/organico', save_prefix='aug-image-', save_format='jpg')\n",
    "    aug_images = [next(aug_iter)[0].astype(np.uint8) for i in range(10)]\n",
    "    \n",
    "for img in glob.glob(path_test + '/residuo/*'):\n",
    "    \n",
    "    if(os.path.basename(img).startswith(\"aug-image-\")):\n",
    "        continue\n",
    "\n",
    "    aug_iter = gen.flow(np.expand_dims(plt.imread(img),0),save_to_dir= dataset + '/teste/residuo', save_prefix='aug-image-', save_format='jpg')\n",
    "    aug_images = [next(aug_iter)[0].astype(np.uint8) for i in range(10)]\n",
    "\n",
    "for img in glob.glob(path_test + '/organico/*'):\n",
    "    \n",
    "    if(os.path.basename(img).startswith(\"aug-image-\")):\n",
    "        continue\n",
    "  \n",
    "    aug_iter = gen.flow(np.expand_dims(plt.imread(img),0),save_to_dir= dataset + '/teste/organico', save_prefix='aug-image-', save_format='jpg')\n",
    "\n",
    "    aug_images = [next(aug_iter)[0].astype(np.uint8) for i in range(10)]\n"
   ]
  },
  {
   "cell_type": "code",
   "execution_count": 20,
   "id": "1917e099",
   "metadata": {},
   "outputs": [
    {
     "name": "stdout",
     "output_type": "stream",
     "text": [
      "1657\n",
      "355\n",
      "356\n",
      "33\n",
      "11\n",
      "11\n",
      "154\n",
      "33\n",
      "33\n"
     ]
    }
   ],
   "source": [
    "print(len(glob.glob('train/reciclavel/*')))\n",
    "print(len(glob.glob('teste/reciclavel/*')))\n",
    "print(len(glob.glob('validate/reciclavel/*')))\n",
    "print(len(glob.glob('train/organico/*')))\n",
    "print(len(glob.glob('teste/organico/*')))\n",
    "print(len(glob.glob('validate/organico/*')))\n",
    "print(len(glob.glob('train/residuo/*')))\n",
    "print(len(glob.glob('teste/residuo/*')))\n",
    "print(len(glob.glob('validate/residuo/*')))"
   ]
  },
  {
   "cell_type": "code",
   "execution_count": 21,
   "id": "7c4d51b7-2763-45f9-89b4-dabbdac4b047",
   "metadata": {},
   "outputs": [
    {
     "name": "stdout",
     "output_type": "stream",
     "text": [
      "Found 1844 images belonging to 3 classes.\n",
      "Found 400 images belonging to 3 classes.\n",
      "Found 399 images belonging to 3 classes.\n"
     ]
    }
   ],
   "source": [
    "train_batches = ImageDataGenerator().flow_from_directory(directory = path_train, target_size = (IMAGE_SIZE), batch_size =10)\n",
    "validate_batches = ImageDataGenerator().flow_from_directory(directory = path_validate , target_size = (IMAGE_SIZE), batch_size = 10)\n",
    "test_batches = ImageDataGenerator().flow_from_directory(directory = path_test , target_size = (IMAGE_SIZE), batch_size = 10, shuffle = False)"
   ]
  },
  {
   "cell_type": "code",
   "execution_count": 22,
   "id": "49457ec6-7cba-456e-b441-32d2aca13405",
   "metadata": {},
   "outputs": [
    {
     "name": "stdout",
     "output_type": "stream",
     "text": [
      "Epoch 1/10\n",
      "185/185 - 112s - loss: 0.8496 - accuracy: 0.8986 - val_loss: 0.8408 - val_accuracy: 0.8900\n",
      "Epoch 2/10\n",
      "185/185 - 115s - loss: 0.8232 - accuracy: 0.8986 - val_loss: 0.8152 - val_accuracy: 0.8900\n",
      "Epoch 3/10\n",
      "185/185 - 112s - loss: 0.7975 - accuracy: 0.8986 - val_loss: 0.7905 - val_accuracy: 0.8900\n",
      "Epoch 4/10\n",
      "185/185 - 106s - loss: 0.7726 - accuracy: 0.8986 - val_loss: 0.7667 - val_accuracy: 0.8900\n",
      "Epoch 5/10\n",
      "185/185 - 135s - loss: 0.7487 - accuracy: 0.8986 - val_loss: 0.7440 - val_accuracy: 0.8900\n",
      "Epoch 6/10\n",
      "185/185 - 108s - loss: 0.7259 - accuracy: 0.8986 - val_loss: 0.7220 - val_accuracy: 0.8900\n",
      "Epoch 7/10\n",
      "185/185 - 110s - loss: 0.7041 - accuracy: 0.8986 - val_loss: 0.7013 - val_accuracy: 0.8900\n",
      "Epoch 8/10\n",
      "185/185 - 100s - loss: 0.6833 - accuracy: 0.8986 - val_loss: 0.6815 - val_accuracy: 0.8900\n",
      "Epoch 9/10\n",
      "185/185 - 48s - loss: 0.6636 - accuracy: 0.8986 - val_loss: 0.6628 - val_accuracy: 0.8900\n",
      "Epoch 10/10\n",
      "185/185 - 48s - loss: 0.6448 - accuracy: 0.8986 - val_loss: 0.6452 - val_accuracy: 0.8900\n"
     ]
    }
   ],
   "source": [
    "history_2 = transfer_learning_model.fit(x=train_batches,\n",
    "            steps_per_epoch=len(train_batches),\n",
    "            validation_data=validate_batches,\n",
    "            validation_steps=len(validate_batches),\n",
    "            epochs=10,\n",
    "            verbose=2)"
   ]
  },
  {
   "cell_type": "code",
   "execution_count": 23,
   "id": "2eb05db7",
   "metadata": {},
   "outputs": [
    {
     "data": {
      "image/png": "[encoded data removed]",
      "text/plain": [
       "<Figure size 432x288 with 1 Axes>"
      ]
     },
     "metadata": {
      "needs_background": "light"
     },
     "output_type": "display_data"
    }
   ],
   "source": [
    "loss_train = history_2.history['accuracy']\n",
    "loss_val = history_2.history['val_accuracy']\n",
    "epochs = range(1,11)\n",
    "plt.plot(epochs, loss_train, 'g', label='Acurácia-Treino')\n",
    "plt.plot(epochs, loss_val, 'b', label='Acurácia-Validação')\n",
    "plt.title('Acurácia durante o treino e validação após Data Augmentation')\n",
    "plt.xlabel('Epochs')\n",
    "plt.ylabel('Acurácia')\n",
    "plt.legend()\n",
    "plt.show()"
   ]
  },
  {
   "cell_type": "code",
   "execution_count": 24,
   "id": "a1b71262-51f2-48fc-928e-df7c6f0c6704",
   "metadata": {},
   "outputs": [
    {
     "name": "stdout",
     "output_type": "stream",
     "text": [
      "Confusion matrix, without normalization\n",
      "[[  0  11   0]\n",
      " [  0 355   0]\n",
      " [  0  33   0]]\n"
     ]
    },
    {
     "data": {
      "image/png": "[encoded data removed]",
      "text/plain": [
       "<Figure size 432x288 with 2 Axes>"
      ]
     },
     "metadata": {
      "needs_background": "light"
     },
     "output_type": "display_data"
    }
   ],
   "source": [
    "test_labels = test_batches.classes\n",
    "predictions = transfer_learning_model.predict(x=test_batches, verbose=0)\n",
    "cm = confusion_matrix(y_true = test_labels, y_pred=predictions.argmax(axis=1))\n",
    "cm_plot_labels = test_batches.class_indices\n",
    "plot_confusion_matrix(cm=cm, classes=cm_plot_labels, title=\"Matriz Confusão após Data Augmentation\")"
   ]
  },
  {
   "cell_type": "code",
   "execution_count": 4,
   "id": "b466eae3-00c4-44ed-96df-8e784648e4ea",
   "metadata": {},
   "outputs": [],
   "source": [
    "dataset = \"/home/romulo/Documents/IFRS/6Semestre/TCC_APP/datasets/dataset_melhor\""
   ]
  },
  {
   "cell_type": "code",
   "execution_count": 5,
   "id": "09cc70de",
   "metadata": {},
   "outputs": [],
   "source": [
    "residuo_path = dataset + 'residuo/*'\n",
    "reciclavel_path = dataset + 'reciclavel/*'\n",
    "organico_path = dataset + 'organico/*'"
   ]
  },
  {
   "cell_type": "code",
   "execution_count": 6,
   "id": "c12927dd",
   "metadata": {},
   "outputs": [],
   "source": [
    "os.chdir(dataset)\n",
    "shutil.rmtree('train/residuo')\n",
    "shutil.rmtree('validate/residuo')\n",
    "shutil.rmtree('teste/residuo')\n",
    "shutil.rmtree('train/reciclavel')\n",
    "shutil.rmtree('validate/reciclavel')\n",
    "shutil.rmtree('teste/reciclavel')\n",
    "shutil.rmtree('train/organico')\n",
    "shutil.rmtree('validate/organico')\n",
    "shutil.rmtree('teste/organico')\n",
    "if os.path.isdir('train/residuo') is False:\n",
    "  os.makedirs('train/residuo')\n",
    "  os.makedirs('train/reciclavel')\n",
    "  os.makedirs('train/organico')\n",
    "  os.makedirs('validate/residuo')\n",
    "  os.makedirs('validate/reciclavel')\n",
    "  os.makedirs('validate/organico')\n",
    "  os.makedirs('teste/residuo')\n",
    "  os.makedirs('teste/reciclavel')\n",
    "  os.makedirs('teste/organico')\n",
    "\n",
    "  \n",
    "\n",
    "for c in random.sample(glob.glob('residuo/*'), math.trunc(len(glob.glob('residuo/*'))*0.7)):    \n",
    "  shutil.move(c, 'train/residuo')\n",
    "for c in random.sample(glob.glob('residuo/*'), math.trunc(len(glob.glob('residuo/*'))*0.5)):\n",
    "  shutil.move(c, 'teste/residuo')\n",
    "for c in random.sample(glob.glob('residuo/*'), math.trunc(len(glob.glob('residuo/*')))):\n",
    "  shutil.move(c, 'validate/residuo')\n",
    "\n",
    "for c in random.sample(glob.glob('reciclavel/*'), math.trunc(len(glob.glob('reciclavel/*'))*0.7)):\n",
    "  shutil.move(c, 'train/reciclavel')\n",
    "for c in random.sample(glob.glob('reciclavel/*'), math.trunc(len(glob.glob('reciclavel/*'))*0.5)):\n",
    "  shutil.move(c, 'teste/reciclavel')\n",
    "for c in random.sample(glob.glob('reciclavel/*'), math.trunc(len(glob.glob('reciclavel/*')))):\n",
    "  shutil.move(c, 'validate/reciclavel')\n",
    "\n",
    "for c in random.sample(glob.glob('organico/*'), math.trunc(len(glob.glob('organico/*'))*0.7)):\n",
    "  shutil.move(c, 'train/organico')\n",
    "for c in random.sample(glob.glob('organico/*'), math.trunc(len(glob.glob('organico/*'))*0.5)):\n",
    "  shutil.move(c, 'teste/organico')\n",
    "for c in random.sample(glob.glob('organico/*'), math.trunc(len(glob.glob('organico/*')))):\n",
    "  shutil.move(c, 'validate/organico')"
   ]
  },
  {
   "cell_type": "code",
   "execution_count": 7,
   "id": "c876d8f6",
   "metadata": {},
   "outputs": [
    {
     "name": "stdout",
     "output_type": "stream",
     "text": [
      "1661\n",
      "356\n",
      "357\n",
      "12\n",
      "3\n",
      "3\n",
      "71\n",
      "15\n",
      "16\n"
     ]
    }
   ],
   "source": [
    "print(len(glob.glob('train/reciclavel/*')))\n",
    "print(len(glob.glob('teste/reciclavel/*')))\n",
    "print(len(glob.glob('validate/reciclavel/*')))\n",
    "print(len(glob.glob('train/organico/*')))\n",
    "print(len(glob.glob('teste/organico/*')))\n",
    "print(len(glob.glob('validate/organico/*')))\n",
    "print(len(glob.glob('train/residuo/*')))\n",
    "print(len(glob.glob('teste/residuo/*')))\n",
    "print(len(glob.glob('validate/residuo/*')))"
   ]
  },
  {
   "cell_type": "code",
   "execution_count": 8,
   "id": "eb74c8f0",
   "metadata": {},
   "outputs": [],
   "source": [
    "path_train = dataset + '/train'\n",
    "path_test = dataset + '/teste'\n",
    "path_validate = dataset + '/validate'"
   ]
  },
  {
   "cell_type": "code",
   "execution_count": 9,
   "id": "eb2b531f",
   "metadata": {},
   "outputs": [
    {
     "name": "stdout",
     "output_type": "stream",
     "text": [
      "Found 1744 images belonging to 3 classes.\n",
      "Found 376 images belonging to 3 classes.\n",
      "Found 374 images belonging to 3 classes.\n"
     ]
    }
   ],
   "source": [
    "IMAGE_SIZE = (224,224)\n",
    "train_batches = ImageDataGenerator().flow_from_directory(directory = path_train, target_size = (IMAGE_SIZE), batch_size =10)\n",
    "validate_batches = ImageDataGenerator().flow_from_directory(directory = path_validate , target_size = (IMAGE_SIZE), batch_size = 10)\n",
    "test_batches = ImageDataGenerator().flow_from_directory(directory = path_test, target_size = (IMAGE_SIZE), batch_size = 10, shuffle = False)"
   ]
  },
  {
   "cell_type": "code",
   "execution_count": 31,
   "id": "893751f2",
   "metadata": {},
   "outputs": [
    {
     "name": "stdout",
     "output_type": "stream",
     "text": [
      "Epoch 1/5\n",
      "175/175 - 50s - loss: 0.5696 - accuracy: 0.9524 - val_loss: 0.5617 - val_accuracy: 0.9495\n",
      "Epoch 2/5\n",
      "175/175 - 50s - loss: 0.5480 - accuracy: 0.9524 - val_loss: 0.5411 - val_accuracy: 0.9495\n",
      "Epoch 3/5\n",
      "175/175 - 48s - loss: 0.5279 - accuracy: 0.9524 - val_loss: 0.5218 - val_accuracy: 0.9495\n",
      "Epoch 4/5\n",
      "175/175 - 48s - loss: 0.5090 - accuracy: 0.9524 - val_loss: 0.5036 - val_accuracy: 0.9495\n",
      "Epoch 5/5\n",
      "175/175 - 48s - loss: 0.4912 - accuracy: 0.9524 - val_loss: 0.4865 - val_accuracy: 0.9495\n"
     ]
    }
   ],
   "source": [
    "history_3 = transfer_learning_model.fit(x=train_batches,\n",
    "            steps_per_epoch=len(train_batches),\n",
    "            validation_data=validate_batches,\n",
    "            validation_steps=len(validate_batches),\n",
    "            epochs=5,\n",
    "            verbose=2)"
   ]
  },
  {
   "cell_type": "code",
   "execution_count": 32,
   "id": "1338a283",
   "metadata": {},
   "outputs": [
    {
     "data": {
      "image/png": "[encoded data removed]",
      "text/plain": [
       "<Figure size 432x288 with 1 Axes>"
      ]
     },
     "metadata": {
      "needs_background": "light"
     },
     "output_type": "display_data"
    }
   ],
   "source": [
    "loss_train = history_3.history['accuracy']\n",
    "loss_val = history_3.history['val_accuracy']\n",
    "epochs = range(1,6)\n",
    "plt.plot(epochs, loss_train, 'g', label='Acurácia-Treino')\n",
    "plt.plot(epochs, loss_val, 'b', label='Acurácia-Validação')\n",
    "plt.title('Acurácia durante o treino e validação sem Data Augmentation')\n",
    "plt.xlabel('Epochs')\n",
    "plt.ylabel('Acurácia')\n",
    "plt.legend()\n",
    "plt.show()"
   ]
  },
  {
   "cell_type": "code",
   "execution_count": 33,
   "id": "1cec3cd8",
   "metadata": {},
   "outputs": [
    {
     "name": "stdout",
     "output_type": "stream",
     "text": [
      "Confusion matrix, without normalization\n",
      "[[  0   3   0]\n",
      " [  0 356   0]\n",
      " [  0  15   0]]\n"
     ]
    },
    {
     "data": {
      "image/png": "[encoded data removed]",
      "text/plain": [
       "<Figure size 432x288 with 2 Axes>"
      ]
     },
     "metadata": {
      "needs_background": "light"
     },
     "output_type": "display_data"
    }
   ],
   "source": [
    "test_labels = test_batches.classes\n",
    "predictions = transfer_learning_model.predict(x=test_batches, verbose=0)\n",
    "cm = confusion_matrix(y_true = test_labels, y_pred=predictions.argmax(axis=1))\n",
    "cm_plot_labels = test_batches.class_indices\n",
    "plot_confusion_matrix(cm=cm, classes=cm_plot_labels, title=\"Matriz Confusão sem Data Augmentation\")"
   ]
  },
  {
   "cell_type": "code",
   "execution_count": 10,
   "id": "d7cc9880",
   "metadata": {},
   "outputs": [],
   "source": [
    "images_path_residuo = path_train + '/residuo/*'\n",
    "images_path_organico = path_train + '/organico/*'"
   ]
  },
  {
   "cell_type": "code",
   "execution_count": 13,
   "id": "65e9cc1e",
   "metadata": {},
   "outputs": [],
   "source": [
    "for img in glob.glob(images_path_residuo):\n",
    "    \n",
    "    if(os.path.basename(img).startswith(\"aug-image-\")):\n",
    "        continue\n",
    "  \n",
    "    aug_iter = gen.flow(np.expand_dims(plt.imread(img),0),save_to_dir= dataset + '/train/residuo', save_prefix='aug-image-', save_format='jpg')\n",
    " \n",
    "    aug_images = [next(aug_iter)[0].astype(np.uint8) for i in range(10)]\n",
    "\n",
    "\n",
    "for img in glob.glob(images_path_organico):\n",
    "    \n",
    "    if(os.path.basename(img).startswith(\"aug-image-\")):\n",
    "        continue\n",
    "\n",
    "    aug_iter = gen.flow(np.expand_dims(plt.imread(img),0),save_to_dir= dataset + '/train/organico', save_prefix='aug-image-', save_format='jpg')\n",
    "    aug_images = [next(aug_iter)[0].astype(np.uint8) for i in range(10)]\n",
    "\n",
    "for img in glob.glob(path_validate + '/residuo/*'):\n",
    "    \n",
    "    if(os.path.basename(img).startswith(\"aug-image-\")):\n",
    "        continue\n",
    "\n",
    "    aug_iter = gen.flow(np.expand_dims(plt.imread(img),0),save_to_dir= dataset + '/validate/residuo', save_prefix='aug-image-', save_format='jpg')\n",
    "    aug_images = [next(aug_iter)[0].astype(np.uint8) for i in range(10)]\n",
    "\n",
    "for img in glob.glob(path_validate + '/organico/*'):\n",
    "    \n",
    "    if(os.path.basename(img).startswith(\"aug-image-\")):\n",
    "        continue\n",
    "\n",
    "    aug_iter = gen.flow(np.expand_dims(plt.imread(img),0),save_to_dir= dataset + '/validate/organico', save_prefix='aug-image-', save_format='jpg')\n",
    "    aug_images = [next(aug_iter)[0].astype(np.uint8) for i in range(10)]\n",
    "    \n",
    "for img in glob.glob(path_test + '/residuo/*'):\n",
    "    \n",
    "    if(os.path.basename(img).startswith(\"aug-image-\")):\n",
    "        continue\n",
    "\n",
    "    aug_iter = gen.flow(np.expand_dims(plt.imread(img),0),save_to_dir= dataset + '/teste/residuo', save_prefix='aug-image-', save_format='jpg')\n",
    "    aug_images = [next(aug_iter)[0].astype(np.uint8) for i in range(10)]\n",
    "\n",
    "for img in glob.glob(path_test + '/organico/*'):\n",
    "    \n",
    "    if(os.path.basename(img).startswith(\"aug-image-\")):\n",
    "        continue\n",
    "  \n",
    "    aug_iter = gen.flow(np.expand_dims(plt.imread(img),0),save_to_dir= dataset + '/teste/organico', save_prefix='aug-image-', save_format='jpg')\n",
    "\n",
    "    aug_images = [next(aug_iter)[0].astype(np.uint8) for i in range(10)]\n"
   ]
  },
  {
   "cell_type": "code",
   "execution_count": 14,
   "id": "0a6d02a9",
   "metadata": {},
   "outputs": [
    {
     "name": "stdout",
     "output_type": "stream",
     "text": [
      "1661\n",
      "356\n",
      "357\n",
      "130\n",
      "33\n",
      "33\n",
      "758\n",
      "164\n",
      "176\n"
     ]
    }
   ],
   "source": [
    "print(len(glob.glob('train/reciclavel/*')))\n",
    "print(len(glob.glob('teste/reciclavel/*')))\n",
    "print(len(glob.glob('validate/reciclavel/*')))\n",
    "print(len(glob.glob('train/organico/*')))\n",
    "print(len(glob.glob('teste/organico/*')))\n",
    "print(len(glob.glob('validate/organico/*')))\n",
    "print(len(glob.glob('train/residuo/*')))\n",
    "print(len(glob.glob('teste/residuo/*')))\n",
    "print(len(glob.glob('validate/residuo/*')))"
   ]
  },
  {
   "cell_type": "code",
   "execution_count": 15,
   "id": "ceafe41f",
   "metadata": {},
   "outputs": [],
   "source": [
    "path_train = dataset + '/train'\n",
    "path_test = dataset + '/teste'\n",
    "path_validate = dataset + '/validate'"
   ]
  },
  {
   "cell_type": "code",
   "execution_count": 16,
   "id": "40de4bb9",
   "metadata": {},
   "outputs": [
    {
     "name": "stdout",
     "output_type": "stream",
     "text": [
      "Found 2549 images belonging to 3 classes.\n",
      "Found 566 images belonging to 3 classes.\n",
      "Found 553 images belonging to 3 classes.\n"
     ]
    }
   ],
   "source": [
    "IMAGE_SIZE = (224,224)\n",
    "train_batches = ImageDataGenerator().flow_from_directory(directory = path_train, target_size = (IMAGE_SIZE), batch_size =10)\n",
    "validate_batches = ImageDataGenerator().flow_from_directory(directory = path_validate , target_size = (IMAGE_SIZE), batch_size = 10)\n",
    "test_batches = ImageDataGenerator().flow_from_directory(directory = path_test, target_size = (IMAGE_SIZE), batch_size = 10, shuffle = False)"
   ]
  },
  {
   "cell_type": "code",
   "execution_count": 23,
   "id": "ec46ce73",
   "metadata": {},
   "outputs": [
    {
     "name": "stdout",
     "output_type": "stream",
     "text": [
      "Epoch 1/10\n",
      "255/255 - 119s - loss: 1.0285 - accuracy: 0.8721 - val_loss: 0.9939 - val_accuracy: 0.8922\n",
      "Epoch 2/10\n",
      "255/255 - 111s - loss: 0.9611 - accuracy: 0.9474 - val_loss: 0.9449 - val_accuracy: 0.9293\n",
      "Epoch 3/10\n",
      "255/255 - 111s - loss: 0.9145 - accuracy: 0.9686 - val_loss: 0.9118 - val_accuracy: 0.9011\n",
      "Epoch 4/10\n",
      "255/255 - 112s - loss: 0.8732 - accuracy: 0.9765 - val_loss: 0.8753 - val_accuracy: 0.9064\n",
      "Epoch 5/10\n",
      "255/255 - 116s - loss: 0.8358 - accuracy: 0.9784 - val_loss: 0.8420 - val_accuracy: 0.9028\n",
      "Epoch 6/10\n",
      "255/255 - 120s - loss: 0.8015 - accuracy: 0.9776 - val_loss: 0.8103 - val_accuracy: 0.9028\n",
      "Epoch 7/10\n",
      "255/255 - 119s - loss: 0.7684 - accuracy: 0.9455 - val_loss: 0.7806 - val_accuracy: 0.8975\n",
      "Epoch 8/10\n",
      "255/255 - 116s - loss: 0.7375 - accuracy: 0.9447 - val_loss: 0.7574 - val_accuracy: 0.8922\n",
      "Epoch 9/10\n",
      "255/255 - 118s - loss: 0.7079 - accuracy: 0.9451 - val_loss: 0.7294 - val_accuracy: 0.8993\n",
      "Epoch 10/10\n",
      "255/255 - 121s - loss: 0.6800 - accuracy: 0.9451 - val_loss: 0.7038 - val_accuracy: 0.8993\n"
     ]
    }
   ],
   "source": [
    "history_4 = transfer_learning_model.fit(x=train_batches,\n",
    "            steps_per_epoch=len(train_batches),\n",
    "            validation_data=validate_batches,\n",
    "            validation_steps=len(validate_batches),\n",
    "            epochs=10,\n",
    "            verbose=2)"
   ]
  },
  {
   "cell_type": "code",
   "execution_count": 25,
   "id": "8f948b59",
   "metadata": {},
   "outputs": [
    {
     "data": {
      "image/png": "[encoded data removed]",
      "text/plain": [
       "<Figure size 432x288 with 1 Axes>"
      ]
     },
     "metadata": {
      "needs_background": "light"
     },
     "output_type": "display_data"
    }
   ],
   "source": [
    "loss_train = history_4.history['accuracy']\n",
    "loss_val = history_4.history['val_accuracy']\n",
    "epochs = range(1,11)\n",
    "plt.plot(epochs, loss_train, 'g', label='Acurácia-Treino')\n",
    "plt.plot(epochs, loss_val, 'b', label='Acurácia-Validação')\n",
    "plt.title('Acurácia durante o treino e validação após Data Augmentation')\n",
    "plt.xlabel('Epochs')\n",
    "plt.ylabel('Acurácia')\n",
    "plt.legend()\n",
    "plt.show()"
   ]
  },
  {
   "cell_type": "code",
   "execution_count": 26,
   "id": "968eb88d",
   "metadata": {},
   "outputs": [
    {
     "name": "stdout",
     "output_type": "stream",
     "text": [
      "Confusion matrix, without normalization\n",
      "[[  0  32   1]\n",
      " [  0 355   1]\n",
      " [  0   0 164]]\n"
     ]
    },
    {
     "data": {
      "image/png": "[encoded data removed]",
      "text/plain": [
       "<Figure size 432x288 with 2 Axes>"
      ]
     },
     "metadata": {
      "needs_background": "light"
     },
     "output_type": "display_data"
    }
   ],
   "source": [
    "test_labels = test_batches.classes\n",
    "predictions = transfer_learning_model.predict(x=test_batches, verbose=0)\n",
    "cm = confusion_matrix(y_true = test_labels, y_pred=predictions.argmax(axis=1))\n",
    "cm_plot_labels = test_batches.class_indices\n",
    "plot_confusion_matrix(cm=cm, classes=cm_plot_labels, title=\"Matriz Confusão após Data Augmentation\")"
   ]
  },
  {
   "cell_type": "code",
   "execution_count": 27,
   "id": "1ec1a5cf",
   "metadata": {},
   "outputs": [
    {
     "name": "stdout",
     "output_type": "stream",
     "text": [
      "WARNING:tensorflow:Compiled the loaded model, but the compiled metrics have yet to be built. `model.compile_metrics` will be empty until you train or evaluate the model.\n",
      "INFO:tensorflow:Assets written to: saved_model/my_model/assets\n"
     ]
    },
    {
     "name": "stderr",
     "output_type": "stream",
     "text": [
      "/home/romulo/anaconda3/envs/tcc/lib/python3.6/site-packages/keras/utils/generic_utils.py:497: CustomMaskWarning: Custom mask layers require a config and must override get_config. When loading, the custom mask layer must be passed to the custom_objects argument.\n",
      "  category=CustomMaskWarning)\n"
     ]
    }
   ],
   "source": [
    "!mkdir -p saved_model\n",
    "model.save('saved_model/my_model')"
   ]
  },
  {
   "cell_type": "code",
   "execution_count": 33,
   "id": "8af116c0",
   "metadata": {},
   "outputs": [],
   "source": [
    "transfer_learning_model.save('/home/romulo/Documents/IFRS/6Semestre/TCC_APP/my_model.h5')"
   ]
  },
  {
   "cell_type": "code",
   "execution_count": 4,
   "id": "21936333",
   "metadata": {},
   "outputs": [],
   "source": [
    "new_model = tf.keras.models.load_model('/home/romulo/Documents/IFRS/6Semestre/TCC_APP/my_model.h5')"
   ]
  },
  {
   "cell_type": "code",
   "execution_count": 5,
   "id": "6239604f",
   "metadata": {},
   "outputs": [
    {
     "name": "stdout",
     "output_type": "stream",
     "text": [
      "Model: \"model\"\n",
      "__________________________________________________________________________________________________\n",
      "Layer (type)                    Output Shape         Param #     Connected to                     \n",
      "==================================================================================================\n",
      "input_1 (InputLayer)            [(None, 224, 224, 3) 0                                            \n",
      "__________________________________________________________________________________________________\n",
      "rescaling (Rescaling)           (None, 224, 224, 3)  0           input_1[0][0]                    \n",
      "__________________________________________________________________________________________________\n",
      "Conv (Conv2D)                   (None, 112, 112, 16) 432         rescaling[0][0]                  \n",
      "__________________________________________________________________________________________________\n",
      "Conv/BatchNorm (BatchNormalizat (None, 112, 112, 16) 64          Conv[0][0]                       \n",
      "__________________________________________________________________________________________________\n",
      "tf.__operators__.add (TFOpLambd (None, 112, 112, 16) 0           Conv/BatchNorm[0][0]             \n",
      "__________________________________________________________________________________________________\n",
      "re_lu (ReLU)                    (None, 112, 112, 16) 0           tf.__operators__.add[0][0]       \n",
      "__________________________________________________________________________________________________\n",
      "tf.math.multiply (TFOpLambda)   (None, 112, 112, 16) 0           re_lu[0][0]                      \n",
      "__________________________________________________________________________________________________\n",
      "multiply (Multiply)             (None, 112, 112, 16) 0           Conv/BatchNorm[0][0]             \n",
      "                                                                 tf.math.multiply[0][0]           \n",
      "__________________________________________________________________________________________________\n",
      "expanded_conv/depthwise (Depthw (None, 112, 112, 16) 144         multiply[0][0]                   \n",
      "__________________________________________________________________________________________________\n",
      "expanded_conv/depthwise/BatchNo (None, 112, 112, 16) 64          expanded_conv/depthwise[0][0]    \n",
      "__________________________________________________________________________________________________\n",
      "re_lu_1 (ReLU)                  (None, 112, 112, 16) 0           expanded_conv/depthwise/BatchNorm\n",
      "__________________________________________________________________________________________________\n",
      "expanded_conv/project (Conv2D)  (None, 112, 112, 16) 256         re_lu_1[0][0]                    \n",
      "__________________________________________________________________________________________________\n",
      "expanded_conv/project/BatchNorm (None, 112, 112, 16) 64          expanded_conv/project[0][0]      \n",
      "__________________________________________________________________________________________________\n",
      "expanded_conv/Add (Add)         (None, 112, 112, 16) 0           multiply[0][0]                   \n",
      "                                                                 expanded_conv/project/BatchNorm[0\n",
      "__________________________________________________________________________________________________\n",
      "expanded_conv_1/expand (Conv2D) (None, 112, 112, 64) 1024        expanded_conv/Add[0][0]          \n",
      "__________________________________________________________________________________________________\n",
      "expanded_conv_1/expand/BatchNor (None, 112, 112, 64) 256         expanded_conv_1/expand[0][0]     \n",
      "__________________________________________________________________________________________________\n",
      "re_lu_2 (ReLU)                  (None, 112, 112, 64) 0           expanded_conv_1/expand/BatchNorm[\n",
      "__________________________________________________________________________________________________\n",
      "expanded_conv_1/depthwise/pad ( (None, 113, 113, 64) 0           re_lu_2[0][0]                    \n",
      "__________________________________________________________________________________________________\n",
      "expanded_conv_1/depthwise (Dept (None, 56, 56, 64)   576         expanded_conv_1/depthwise/pad[0][\n",
      "__________________________________________________________________________________________________\n",
      "expanded_conv_1/depthwise/Batch (None, 56, 56, 64)   256         expanded_conv_1/depthwise[0][0]  \n",
      "__________________________________________________________________________________________________\n",
      "re_lu_3 (ReLU)                  (None, 56, 56, 64)   0           expanded_conv_1/depthwise/BatchNo\n",
      "__________________________________________________________________________________________________\n",
      "expanded_conv_1/project (Conv2D (None, 56, 56, 24)   1536        re_lu_3[0][0]                    \n",
      "__________________________________________________________________________________________________\n",
      "expanded_conv_1/project/BatchNo (None, 56, 56, 24)   96          expanded_conv_1/project[0][0]    \n",
      "__________________________________________________________________________________________________\n",
      "expanded_conv_2/expand (Conv2D) (None, 56, 56, 72)   1728        expanded_conv_1/project/BatchNorm\n",
      "__________________________________________________________________________________________________\n",
      "expanded_conv_2/expand/BatchNor (None, 56, 56, 72)   288         expanded_conv_2/expand[0][0]     \n",
      "__________________________________________________________________________________________________\n",
      "re_lu_4 (ReLU)                  (None, 56, 56, 72)   0           expanded_conv_2/expand/BatchNorm[\n",
      "__________________________________________________________________________________________________\n",
      "expanded_conv_2/depthwise (Dept (None, 56, 56, 72)   648         re_lu_4[0][0]                    \n",
      "__________________________________________________________________________________________________\n",
      "expanded_conv_2/depthwise/Batch (None, 56, 56, 72)   288         expanded_conv_2/depthwise[0][0]  \n",
      "__________________________________________________________________________________________________\n",
      "re_lu_5 (ReLU)                  (None, 56, 56, 72)   0           expanded_conv_2/depthwise/BatchNo\n",
      "__________________________________________________________________________________________________\n",
      "expanded_conv_2/project (Conv2D (None, 56, 56, 24)   1728        re_lu_5[0][0]                    \n",
      "__________________________________________________________________________________________________\n",
      "expanded_conv_2/project/BatchNo (None, 56, 56, 24)   96          expanded_conv_2/project[0][0]    \n",
      "__________________________________________________________________________________________________\n",
      "expanded_conv_2/Add (Add)       (None, 56, 56, 24)   0           expanded_conv_1/project/BatchNorm\n",
      "                                                                 expanded_conv_2/project/BatchNorm\n",
      "__________________________________________________________________________________________________\n",
      "expanded_conv_3/expand (Conv2D) (None, 56, 56, 72)   1728        expanded_conv_2/Add[0][0]        \n",
      "__________________________________________________________________________________________________\n",
      "expanded_conv_3/expand/BatchNor (None, 56, 56, 72)   288         expanded_conv_3/expand[0][0]     \n",
      "__________________________________________________________________________________________________\n",
      "re_lu_6 (ReLU)                  (None, 56, 56, 72)   0           expanded_conv_3/expand/BatchNorm[\n",
      "__________________________________________________________________________________________________\n",
      "expanded_conv_3/depthwise/pad ( (None, 59, 59, 72)   0           re_lu_6[0][0]                    \n",
      "__________________________________________________________________________________________________\n",
      "expanded_conv_3/depthwise (Dept (None, 28, 28, 72)   1800        expanded_conv_3/depthwise/pad[0][\n",
      "__________________________________________________________________________________________________\n",
      "expanded_conv_3/depthwise/Batch (None, 28, 28, 72)   288         expanded_conv_3/depthwise[0][0]  \n",
      "__________________________________________________________________________________________________\n",
      "re_lu_7 (ReLU)                  (None, 28, 28, 72)   0           expanded_conv_3/depthwise/BatchNo\n",
      "__________________________________________________________________________________________________\n",
      "expanded_conv_3/squeeze_excite/ (None, 1, 1, 72)     0           re_lu_7[0][0]                    \n",
      "__________________________________________________________________________________________________\n",
      "expanded_conv_3/squeeze_excite/ (None, 1, 1, 24)     1752        expanded_conv_3/squeeze_excite/Av\n",
      "__________________________________________________________________________________________________\n",
      "expanded_conv_3/squeeze_excite/ (None, 1, 1, 24)     0           expanded_conv_3/squeeze_excite/Co\n",
      "__________________________________________________________________________________________________\n",
      "expanded_conv_3/squeeze_excite/ (None, 1, 1, 72)     1800        expanded_conv_3/squeeze_excite/Re\n",
      "__________________________________________________________________________________________________\n",
      "tf.__operators__.add_1 (TFOpLam (None, 1, 1, 72)     0           expanded_conv_3/squeeze_excite/Co\n",
      "__________________________________________________________________________________________________\n",
      "re_lu_8 (ReLU)                  (None, 1, 1, 72)     0           tf.__operators__.add_1[0][0]     \n",
      "__________________________________________________________________________________________________\n",
      "tf.math.multiply_1 (TFOpLambda) (None, 1, 1, 72)     0           re_lu_8[0][0]                    \n",
      "__________________________________________________________________________________________________\n",
      "expanded_conv_3/squeeze_excite/ (None, 28, 28, 72)   0           re_lu_7[0][0]                    \n",
      "                                                                 tf.math.multiply_1[0][0]         \n",
      "__________________________________________________________________________________________________\n",
      "expanded_conv_3/project (Conv2D (None, 28, 28, 40)   2880        expanded_conv_3/squeeze_excite/Mu\n",
      "__________________________________________________________________________________________________\n",
      "expanded_conv_3/project/BatchNo (None, 28, 28, 40)   160         expanded_conv_3/project[0][0]    \n",
      "__________________________________________________________________________________________________\n",
      "expanded_conv_4/expand (Conv2D) (None, 28, 28, 120)  4800        expanded_conv_3/project/BatchNorm\n",
      "__________________________________________________________________________________________________\n",
      "expanded_conv_4/expand/BatchNor (None, 28, 28, 120)  480         expanded_conv_4/expand[0][0]     \n",
      "__________________________________________________________________________________________________\n",
      "re_lu_9 (ReLU)                  (None, 28, 28, 120)  0           expanded_conv_4/expand/BatchNorm[\n",
      "__________________________________________________________________________________________________\n",
      "expanded_conv_4/depthwise (Dept (None, 28, 28, 120)  3000        re_lu_9[0][0]                    \n",
      "__________________________________________________________________________________________________\n",
      "expanded_conv_4/depthwise/Batch (None, 28, 28, 120)  480         expanded_conv_4/depthwise[0][0]  \n",
      "__________________________________________________________________________________________________\n",
      "re_lu_10 (ReLU)                 (None, 28, 28, 120)  0           expanded_conv_4/depthwise/BatchNo\n",
      "__________________________________________________________________________________________________\n",
      "expanded_conv_4/squeeze_excite/ (None, 1, 1, 120)    0           re_lu_10[0][0]                   \n",
      "__________________________________________________________________________________________________\n",
      "expanded_conv_4/squeeze_excite/ (None, 1, 1, 32)     3872        expanded_conv_4/squeeze_excite/Av\n",
      "__________________________________________________________________________________________________\n",
      "expanded_conv_4/squeeze_excite/ (None, 1, 1, 32)     0           expanded_conv_4/squeeze_excite/Co\n",
      "__________________________________________________________________________________________________\n",
      "expanded_conv_4/squeeze_excite/ (None, 1, 1, 120)    3960        expanded_conv_4/squeeze_excite/Re\n",
      "__________________________________________________________________________________________________\n",
      "tf.__operators__.add_2 (TFOpLam (None, 1, 1, 120)    0           expanded_conv_4/squeeze_excite/Co\n",
      "__________________________________________________________________________________________________\n",
      "re_lu_11 (ReLU)                 (None, 1, 1, 120)    0           tf.__operators__.add_2[0][0]     \n",
      "__________________________________________________________________________________________________\n",
      "tf.math.multiply_2 (TFOpLambda) (None, 1, 1, 120)    0           re_lu_11[0][0]                   \n",
      "__________________________________________________________________________________________________\n",
      "expanded_conv_4/squeeze_excite/ (None, 28, 28, 120)  0           re_lu_10[0][0]                   \n",
      "                                                                 tf.math.multiply_2[0][0]         \n",
      "__________________________________________________________________________________________________\n",
      "expanded_conv_4/project (Conv2D (None, 28, 28, 40)   4800        expanded_conv_4/squeeze_excite/Mu\n",
      "__________________________________________________________________________________________________\n",
      "expanded_conv_4/project/BatchNo (None, 28, 28, 40)   160         expanded_conv_4/project[0][0]    \n",
      "__________________________________________________________________________________________________\n",
      "expanded_conv_4/Add (Add)       (None, 28, 28, 40)   0           expanded_conv_3/project/BatchNorm\n",
      "                                                                 expanded_conv_4/project/BatchNorm\n",
      "__________________________________________________________________________________________________\n",
      "expanded_conv_5/expand (Conv2D) (None, 28, 28, 120)  4800        expanded_conv_4/Add[0][0]        \n",
      "__________________________________________________________________________________________________\n",
      "expanded_conv_5/expand/BatchNor (None, 28, 28, 120)  480         expanded_conv_5/expand[0][0]     \n",
      "__________________________________________________________________________________________________\n",
      "re_lu_12 (ReLU)                 (None, 28, 28, 120)  0           expanded_conv_5/expand/BatchNorm[\n",
      "__________________________________________________________________________________________________\n",
      "expanded_conv_5/depthwise (Dept (None, 28, 28, 120)  3000        re_lu_12[0][0]                   \n",
      "__________________________________________________________________________________________________\n",
      "expanded_conv_5/depthwise/Batch (None, 28, 28, 120)  480         expanded_conv_5/depthwise[0][0]  \n",
      "__________________________________________________________________________________________________\n",
      "re_lu_13 (ReLU)                 (None, 28, 28, 120)  0           expanded_conv_5/depthwise/BatchNo\n",
      "__________________________________________________________________________________________________\n",
      "expanded_conv_5/squeeze_excite/ (None, 1, 1, 120)    0           re_lu_13[0][0]                   \n",
      "__________________________________________________________________________________________________\n",
      "expanded_conv_5/squeeze_excite/ (None, 1, 1, 32)     3872        expanded_conv_5/squeeze_excite/Av\n",
      "__________________________________________________________________________________________________\n",
      "expanded_conv_5/squeeze_excite/ (None, 1, 1, 32)     0           expanded_conv_5/squeeze_excite/Co\n",
      "__________________________________________________________________________________________________\n",
      "expanded_conv_5/squeeze_excite/ (None, 1, 1, 120)    3960        expanded_conv_5/squeeze_excite/Re\n",
      "__________________________________________________________________________________________________\n",
      "tf.__operators__.add_3 (TFOpLam (None, 1, 1, 120)    0           expanded_conv_5/squeeze_excite/Co\n",
      "__________________________________________________________________________________________________\n",
      "re_lu_14 (ReLU)                 (None, 1, 1, 120)    0           tf.__operators__.add_3[0][0]     \n",
      "__________________________________________________________________________________________________\n",
      "tf.math.multiply_3 (TFOpLambda) (None, 1, 1, 120)    0           re_lu_14[0][0]                   \n",
      "__________________________________________________________________________________________________\n",
      "expanded_conv_5/squeeze_excite/ (None, 28, 28, 120)  0           re_lu_13[0][0]                   \n",
      "                                                                 tf.math.multiply_3[0][0]         \n",
      "__________________________________________________________________________________________________\n",
      "expanded_conv_5/project (Conv2D (None, 28, 28, 40)   4800        expanded_conv_5/squeeze_excite/Mu\n",
      "__________________________________________________________________________________________________\n",
      "expanded_conv_5/project/BatchNo (None, 28, 28, 40)   160         expanded_conv_5/project[0][0]    \n",
      "__________________________________________________________________________________________________\n",
      "expanded_conv_5/Add (Add)       (None, 28, 28, 40)   0           expanded_conv_4/Add[0][0]        \n",
      "                                                                 expanded_conv_5/project/BatchNorm\n",
      "__________________________________________________________________________________________________\n",
      "expanded_conv_6/expand (Conv2D) (None, 28, 28, 240)  9600        expanded_conv_5/Add[0][0]        \n",
      "__________________________________________________________________________________________________\n",
      "expanded_conv_6/expand/BatchNor (None, 28, 28, 240)  960         expanded_conv_6/expand[0][0]     \n",
      "__________________________________________________________________________________________________\n",
      "tf.__operators__.add_4 (TFOpLam (None, 28, 28, 240)  0           expanded_conv_6/expand/BatchNorm[\n",
      "__________________________________________________________________________________________________\n",
      "re_lu_15 (ReLU)                 (None, 28, 28, 240)  0           tf.__operators__.add_4[0][0]     \n",
      "__________________________________________________________________________________________________\n",
      "tf.math.multiply_4 (TFOpLambda) (None, 28, 28, 240)  0           re_lu_15[0][0]                   \n",
      "__________________________________________________________________________________________________\n",
      "multiply_1 (Multiply)           (None, 28, 28, 240)  0           expanded_conv_6/expand/BatchNorm[\n",
      "                                                                 tf.math.multiply_4[0][0]         \n",
      "__________________________________________________________________________________________________\n",
      "expanded_conv_6/depthwise/pad ( (None, 29, 29, 240)  0           multiply_1[0][0]                 \n",
      "__________________________________________________________________________________________________\n",
      "expanded_conv_6/depthwise (Dept (None, 14, 14, 240)  2160        expanded_conv_6/depthwise/pad[0][\n",
      "__________________________________________________________________________________________________\n",
      "expanded_conv_6/depthwise/Batch (None, 14, 14, 240)  960         expanded_conv_6/depthwise[0][0]  \n",
      "__________________________________________________________________________________________________\n",
      "tf.__operators__.add_5 (TFOpLam (None, 14, 14, 240)  0           expanded_conv_6/depthwise/BatchNo\n",
      "__________________________________________________________________________________________________\n",
      "re_lu_16 (ReLU)                 (None, 14, 14, 240)  0           tf.__operators__.add_5[0][0]     \n",
      "__________________________________________________________________________________________________\n",
      "tf.math.multiply_5 (TFOpLambda) (None, 14, 14, 240)  0           re_lu_16[0][0]                   \n",
      "__________________________________________________________________________________________________\n",
      "multiply_2 (Multiply)           (None, 14, 14, 240)  0           expanded_conv_6/depthwise/BatchNo\n",
      "                                                                 tf.math.multiply_5[0][0]         \n",
      "__________________________________________________________________________________________________\n",
      "expanded_conv_6/project (Conv2D (None, 14, 14, 80)   19200       multiply_2[0][0]                 \n",
      "__________________________________________________________________________________________________\n",
      "expanded_conv_6/project/BatchNo (None, 14, 14, 80)   320         expanded_conv_6/project[0][0]    \n",
      "__________________________________________________________________________________________________\n",
      "expanded_conv_7/expand (Conv2D) (None, 14, 14, 200)  16000       expanded_conv_6/project/BatchNorm\n",
      "__________________________________________________________________________________________________\n",
      "expanded_conv_7/expand/BatchNor (None, 14, 14, 200)  800         expanded_conv_7/expand[0][0]     \n",
      "__________________________________________________________________________________________________\n",
      "tf.__operators__.add_6 (TFOpLam (None, 14, 14, 200)  0           expanded_conv_7/expand/BatchNorm[\n",
      "__________________________________________________________________________________________________\n",
      "re_lu_17 (ReLU)                 (None, 14, 14, 200)  0           tf.__operators__.add_6[0][0]     \n",
      "__________________________________________________________________________________________________\n",
      "tf.math.multiply_6 (TFOpLambda) (None, 14, 14, 200)  0           re_lu_17[0][0]                   \n",
      "__________________________________________________________________________________________________\n",
      "multiply_3 (Multiply)           (None, 14, 14, 200)  0           expanded_conv_7/expand/BatchNorm[\n",
      "                                                                 tf.math.multiply_6[0][0]         \n",
      "__________________________________________________________________________________________________\n",
      "expanded_conv_7/depthwise (Dept (None, 14, 14, 200)  1800        multiply_3[0][0]                 \n",
      "__________________________________________________________________________________________________\n",
      "expanded_conv_7/depthwise/Batch (None, 14, 14, 200)  800         expanded_conv_7/depthwise[0][0]  \n",
      "__________________________________________________________________________________________________\n",
      "tf.__operators__.add_7 (TFOpLam (None, 14, 14, 200)  0           expanded_conv_7/depthwise/BatchNo\n",
      "__________________________________________________________________________________________________\n",
      "re_lu_18 (ReLU)                 (None, 14, 14, 200)  0           tf.__operators__.add_7[0][0]     \n",
      "__________________________________________________________________________________________________\n",
      "tf.math.multiply_7 (TFOpLambda) (None, 14, 14, 200)  0           re_lu_18[0][0]                   \n",
      "__________________________________________________________________________________________________\n",
      "multiply_4 (Multiply)           (None, 14, 14, 200)  0           expanded_conv_7/depthwise/BatchNo\n",
      "                                                                 tf.math.multiply_7[0][0]         \n",
      "__________________________________________________________________________________________________\n",
      "expanded_conv_7/project (Conv2D (None, 14, 14, 80)   16000       multiply_4[0][0]                 \n",
      "__________________________________________________________________________________________________\n",
      "expanded_conv_7/project/BatchNo (None, 14, 14, 80)   320         expanded_conv_7/project[0][0]    \n",
      "__________________________________________________________________________________________________\n",
      "expanded_conv_7/Add (Add)       (None, 14, 14, 80)   0           expanded_conv_6/project/BatchNorm\n",
      "                                                                 expanded_conv_7/project/BatchNorm\n",
      "__________________________________________________________________________________________________\n",
      "expanded_conv_8/expand (Conv2D) (None, 14, 14, 184)  14720       expanded_conv_7/Add[0][0]        \n",
      "__________________________________________________________________________________________________\n",
      "expanded_conv_8/expand/BatchNor (None, 14, 14, 184)  736         expanded_conv_8/expand[0][0]     \n",
      "__________________________________________________________________________________________________\n",
      "tf.__operators__.add_8 (TFOpLam (None, 14, 14, 184)  0           expanded_conv_8/expand/BatchNorm[\n",
      "__________________________________________________________________________________________________\n",
      "re_lu_19 (ReLU)                 (None, 14, 14, 184)  0           tf.__operators__.add_8[0][0]     \n",
      "__________________________________________________________________________________________________\n",
      "tf.math.multiply_8 (TFOpLambda) (None, 14, 14, 184)  0           re_lu_19[0][0]                   \n",
      "__________________________________________________________________________________________________\n",
      "multiply_5 (Multiply)           (None, 14, 14, 184)  0           expanded_conv_8/expand/BatchNorm[\n",
      "                                                                 tf.math.multiply_8[0][0]         \n",
      "__________________________________________________________________________________________________\n",
      "expanded_conv_8/depthwise (Dept (None, 14, 14, 184)  1656        multiply_5[0][0]                 \n",
      "__________________________________________________________________________________________________\n",
      "expanded_conv_8/depthwise/Batch (None, 14, 14, 184)  736         expanded_conv_8/depthwise[0][0]  \n",
      "__________________________________________________________________________________________________\n",
      "tf.__operators__.add_9 (TFOpLam (None, 14, 14, 184)  0           expanded_conv_8/depthwise/BatchNo\n",
      "__________________________________________________________________________________________________\n",
      "re_lu_20 (ReLU)                 (None, 14, 14, 184)  0           tf.__operators__.add_9[0][0]     \n",
      "__________________________________________________________________________________________________\n",
      "tf.math.multiply_9 (TFOpLambda) (None, 14, 14, 184)  0           re_lu_20[0][0]                   \n",
      "__________________________________________________________________________________________________\n",
      "multiply_6 (Multiply)           (None, 14, 14, 184)  0           expanded_conv_8/depthwise/BatchNo\n",
      "                                                                 tf.math.multiply_9[0][0]         \n",
      "__________________________________________________________________________________________________\n",
      "expanded_conv_8/project (Conv2D (None, 14, 14, 80)   14720       multiply_6[0][0]                 \n",
      "__________________________________________________________________________________________________\n",
      "expanded_conv_8/project/BatchNo (None, 14, 14, 80)   320         expanded_conv_8/project[0][0]    \n",
      "__________________________________________________________________________________________________\n",
      "expanded_conv_8/Add (Add)       (None, 14, 14, 80)   0           expanded_conv_7/Add[0][0]        \n",
      "                                                                 expanded_conv_8/project/BatchNorm\n",
      "__________________________________________________________________________________________________\n",
      "expanded_conv_9/expand (Conv2D) (None, 14, 14, 184)  14720       expanded_conv_8/Add[0][0]        \n",
      "__________________________________________________________________________________________________\n",
      "expanded_conv_9/expand/BatchNor (None, 14, 14, 184)  736         expanded_conv_9/expand[0][0]     \n",
      "__________________________________________________________________________________________________\n",
      "tf.__operators__.add_10 (TFOpLa (None, 14, 14, 184)  0           expanded_conv_9/expand/BatchNorm[\n",
      "__________________________________________________________________________________________________\n",
      "re_lu_21 (ReLU)                 (None, 14, 14, 184)  0           tf.__operators__.add_10[0][0]    \n",
      "__________________________________________________________________________________________________\n",
      "tf.math.multiply_10 (TFOpLambda (None, 14, 14, 184)  0           re_lu_21[0][0]                   \n",
      "__________________________________________________________________________________________________\n",
      "multiply_7 (Multiply)           (None, 14, 14, 184)  0           expanded_conv_9/expand/BatchNorm[\n",
      "                                                                 tf.math.multiply_10[0][0]        \n",
      "__________________________________________________________________________________________________\n",
      "expanded_conv_9/depthwise (Dept (None, 14, 14, 184)  1656        multiply_7[0][0]                 \n",
      "__________________________________________________________________________________________________\n",
      "expanded_conv_9/depthwise/Batch (None, 14, 14, 184)  736         expanded_conv_9/depthwise[0][0]  \n",
      "__________________________________________________________________________________________________\n",
      "tf.__operators__.add_11 (TFOpLa (None, 14, 14, 184)  0           expanded_conv_9/depthwise/BatchNo\n",
      "__________________________________________________________________________________________________\n",
      "re_lu_22 (ReLU)                 (None, 14, 14, 184)  0           tf.__operators__.add_11[0][0]    \n",
      "__________________________________________________________________________________________________\n",
      "tf.math.multiply_11 (TFOpLambda (None, 14, 14, 184)  0           re_lu_22[0][0]                   \n",
      "__________________________________________________________________________________________________\n",
      "multiply_8 (Multiply)           (None, 14, 14, 184)  0           expanded_conv_9/depthwise/BatchNo\n",
      "                                                                 tf.math.multiply_11[0][0]        \n",
      "__________________________________________________________________________________________________\n",
      "expanded_conv_9/project (Conv2D (None, 14, 14, 80)   14720       multiply_8[0][0]                 \n",
      "__________________________________________________________________________________________________\n",
      "expanded_conv_9/project/BatchNo (None, 14, 14, 80)   320         expanded_conv_9/project[0][0]    \n",
      "__________________________________________________________________________________________________\n",
      "expanded_conv_9/Add (Add)       (None, 14, 14, 80)   0           expanded_conv_8/Add[0][0]        \n",
      "                                                                 expanded_conv_9/project/BatchNorm\n",
      "__________________________________________________________________________________________________\n",
      "expanded_conv_10/expand (Conv2D (None, 14, 14, 480)  38400       expanded_conv_9/Add[0][0]        \n",
      "__________________________________________________________________________________________________\n",
      "expanded_conv_10/expand/BatchNo (None, 14, 14, 480)  1920        expanded_conv_10/expand[0][0]    \n",
      "__________________________________________________________________________________________________\n",
      "tf.__operators__.add_12 (TFOpLa (None, 14, 14, 480)  0           expanded_conv_10/expand/BatchNorm\n",
      "__________________________________________________________________________________________________\n",
      "re_lu_23 (ReLU)                 (None, 14, 14, 480)  0           tf.__operators__.add_12[0][0]    \n",
      "__________________________________________________________________________________________________\n",
      "tf.math.multiply_12 (TFOpLambda (None, 14, 14, 480)  0           re_lu_23[0][0]                   \n",
      "__________________________________________________________________________________________________\n",
      "multiply_9 (Multiply)           (None, 14, 14, 480)  0           expanded_conv_10/expand/BatchNorm\n",
      "                                                                 tf.math.multiply_12[0][0]        \n",
      "__________________________________________________________________________________________________\n",
      "expanded_conv_10/depthwise (Dep (None, 14, 14, 480)  4320        multiply_9[0][0]                 \n",
      "__________________________________________________________________________________________________\n",
      "expanded_conv_10/depthwise/Batc (None, 14, 14, 480)  1920        expanded_conv_10/depthwise[0][0] \n",
      "__________________________________________________________________________________________________\n",
      "tf.__operators__.add_13 (TFOpLa (None, 14, 14, 480)  0           expanded_conv_10/depthwise/BatchN\n",
      "__________________________________________________________________________________________________\n",
      "re_lu_24 (ReLU)                 (None, 14, 14, 480)  0           tf.__operators__.add_13[0][0]    \n",
      "__________________________________________________________________________________________________\n",
      "tf.math.multiply_13 (TFOpLambda (None, 14, 14, 480)  0           re_lu_24[0][0]                   \n",
      "__________________________________________________________________________________________________\n",
      "multiply_10 (Multiply)          (None, 14, 14, 480)  0           expanded_conv_10/depthwise/BatchN\n",
      "                                                                 tf.math.multiply_13[0][0]        \n",
      "__________________________________________________________________________________________________\n",
      "expanded_conv_10/squeeze_excite (None, 1, 1, 480)    0           multiply_10[0][0]                \n",
      "__________________________________________________________________________________________________\n",
      "expanded_conv_10/squeeze_excite (None, 1, 1, 120)    57720       expanded_conv_10/squeeze_excite/A\n",
      "__________________________________________________________________________________________________\n",
      "expanded_conv_10/squeeze_excite (None, 1, 1, 120)    0           expanded_conv_10/squeeze_excite/C\n",
      "__________________________________________________________________________________________________\n",
      "expanded_conv_10/squeeze_excite (None, 1, 1, 480)    58080       expanded_conv_10/squeeze_excite/R\n",
      "__________________________________________________________________________________________________\n",
      "tf.__operators__.add_14 (TFOpLa (None, 1, 1, 480)    0           expanded_conv_10/squeeze_excite/C\n",
      "__________________________________________________________________________________________________\n",
      "re_lu_25 (ReLU)                 (None, 1, 1, 480)    0           tf.__operators__.add_14[0][0]    \n",
      "__________________________________________________________________________________________________\n",
      "tf.math.multiply_14 (TFOpLambda (None, 1, 1, 480)    0           re_lu_25[0][0]                   \n",
      "__________________________________________________________________________________________________\n",
      "expanded_conv_10/squeeze_excite (None, 14, 14, 480)  0           multiply_10[0][0]                \n",
      "                                                                 tf.math.multiply_14[0][0]        \n",
      "__________________________________________________________________________________________________\n",
      "expanded_conv_10/project (Conv2 (None, 14, 14, 112)  53760       expanded_conv_10/squeeze_excite/M\n",
      "__________________________________________________________________________________________________\n",
      "expanded_conv_10/project/BatchN (None, 14, 14, 112)  448         expanded_conv_10/project[0][0]   \n",
      "__________________________________________________________________________________________________\n",
      "expanded_conv_11/expand (Conv2D (None, 14, 14, 672)  75264       expanded_conv_10/project/BatchNor\n",
      "__________________________________________________________________________________________________\n",
      "expanded_conv_11/expand/BatchNo (None, 14, 14, 672)  2688        expanded_conv_11/expand[0][0]    \n",
      "__________________________________________________________________________________________________\n",
      "tf.__operators__.add_15 (TFOpLa (None, 14, 14, 672)  0           expanded_conv_11/expand/BatchNorm\n",
      "__________________________________________________________________________________________________\n",
      "re_lu_26 (ReLU)                 (None, 14, 14, 672)  0           tf.__operators__.add_15[0][0]    \n",
      "__________________________________________________________________________________________________\n",
      "tf.math.multiply_15 (TFOpLambda (None, 14, 14, 672)  0           re_lu_26[0][0]                   \n",
      "__________________________________________________________________________________________________\n",
      "multiply_11 (Multiply)          (None, 14, 14, 672)  0           expanded_conv_11/expand/BatchNorm\n",
      "                                                                 tf.math.multiply_15[0][0]        \n",
      "__________________________________________________________________________________________________\n",
      "expanded_conv_11/depthwise (Dep (None, 14, 14, 672)  6048        multiply_11[0][0]                \n",
      "__________________________________________________________________________________________________\n",
      "expanded_conv_11/depthwise/Batc (None, 14, 14, 672)  2688        expanded_conv_11/depthwise[0][0] \n",
      "__________________________________________________________________________________________________\n",
      "tf.__operators__.add_16 (TFOpLa (None, 14, 14, 672)  0           expanded_conv_11/depthwise/BatchN\n",
      "__________________________________________________________________________________________________\n",
      "re_lu_27 (ReLU)                 (None, 14, 14, 672)  0           tf.__operators__.add_16[0][0]    \n",
      "__________________________________________________________________________________________________\n",
      "tf.math.multiply_16 (TFOpLambda (None, 14, 14, 672)  0           re_lu_27[0][0]                   \n",
      "__________________________________________________________________________________________________\n",
      "multiply_12 (Multiply)          (None, 14, 14, 672)  0           expanded_conv_11/depthwise/BatchN\n",
      "                                                                 tf.math.multiply_16[0][0]        \n",
      "__________________________________________________________________________________________________\n",
      "expanded_conv_11/squeeze_excite (None, 1, 1, 672)    0           multiply_12[0][0]                \n",
      "__________________________________________________________________________________________________\n",
      "expanded_conv_11/squeeze_excite (None, 1, 1, 168)    113064      expanded_conv_11/squeeze_excite/A\n",
      "__________________________________________________________________________________________________\n",
      "expanded_conv_11/squeeze_excite (None, 1, 1, 168)    0           expanded_conv_11/squeeze_excite/C\n",
      "__________________________________________________________________________________________________\n",
      "expanded_conv_11/squeeze_excite (None, 1, 1, 672)    113568      expanded_conv_11/squeeze_excite/R\n",
      "__________________________________________________________________________________________________\n",
      "tf.__operators__.add_17 (TFOpLa (None, 1, 1, 672)    0           expanded_conv_11/squeeze_excite/C\n",
      "__________________________________________________________________________________________________\n",
      "re_lu_28 (ReLU)                 (None, 1, 1, 672)    0           tf.__operators__.add_17[0][0]    \n",
      "__________________________________________________________________________________________________\n",
      "tf.math.multiply_17 (TFOpLambda (None, 1, 1, 672)    0           re_lu_28[0][0]                   \n",
      "__________________________________________________________________________________________________\n",
      "expanded_conv_11/squeeze_excite (None, 14, 14, 672)  0           multiply_12[0][0]                \n",
      "                                                                 tf.math.multiply_17[0][0]        \n",
      "__________________________________________________________________________________________________\n",
      "expanded_conv_11/project (Conv2 (None, 14, 14, 112)  75264       expanded_conv_11/squeeze_excite/M\n",
      "__________________________________________________________________________________________________\n",
      "expanded_conv_11/project/BatchN (None, 14, 14, 112)  448         expanded_conv_11/project[0][0]   \n",
      "__________________________________________________________________________________________________\n",
      "expanded_conv_11/Add (Add)      (None, 14, 14, 112)  0           expanded_conv_10/project/BatchNor\n",
      "                                                                 expanded_conv_11/project/BatchNor\n",
      "__________________________________________________________________________________________________\n",
      "expanded_conv_12/expand (Conv2D (None, 14, 14, 672)  75264       expanded_conv_11/Add[0][0]       \n",
      "__________________________________________________________________________________________________\n",
      "expanded_conv_12/expand/BatchNo (None, 14, 14, 672)  2688        expanded_conv_12/expand[0][0]    \n",
      "__________________________________________________________________________________________________\n",
      "tf.__operators__.add_18 (TFOpLa (None, 14, 14, 672)  0           expanded_conv_12/expand/BatchNorm\n",
      "__________________________________________________________________________________________________\n",
      "re_lu_29 (ReLU)                 (None, 14, 14, 672)  0           tf.__operators__.add_18[0][0]    \n",
      "__________________________________________________________________________________________________\n",
      "tf.math.multiply_18 (TFOpLambda (None, 14, 14, 672)  0           re_lu_29[0][0]                   \n",
      "__________________________________________________________________________________________________\n",
      "multiply_13 (Multiply)          (None, 14, 14, 672)  0           expanded_conv_12/expand/BatchNorm\n",
      "                                                                 tf.math.multiply_18[0][0]        \n",
      "__________________________________________________________________________________________________\n",
      "expanded_conv_12/depthwise/pad  (None, 17, 17, 672)  0           multiply_13[0][0]                \n",
      "__________________________________________________________________________________________________\n",
      "expanded_conv_12/depthwise (Dep (None, 7, 7, 672)    16800       expanded_conv_12/depthwise/pad[0]\n",
      "__________________________________________________________________________________________________\n",
      "expanded_conv_12/depthwise/Batc (None, 7, 7, 672)    2688        expanded_conv_12/depthwise[0][0] \n",
      "__________________________________________________________________________________________________\n",
      "tf.__operators__.add_19 (TFOpLa (None, 7, 7, 672)    0           expanded_conv_12/depthwise/BatchN\n",
      "__________________________________________________________________________________________________\n",
      "re_lu_30 (ReLU)                 (None, 7, 7, 672)    0           tf.__operators__.add_19[0][0]    \n",
      "__________________________________________________________________________________________________\n",
      "tf.math.multiply_19 (TFOpLambda (None, 7, 7, 672)    0           re_lu_30[0][0]                   \n",
      "__________________________________________________________________________________________________\n",
      "multiply_14 (Multiply)          (None, 7, 7, 672)    0           expanded_conv_12/depthwise/BatchN\n",
      "                                                                 tf.math.multiply_19[0][0]        \n",
      "__________________________________________________________________________________________________\n",
      "expanded_conv_12/squeeze_excite (None, 1, 1, 672)    0           multiply_14[0][0]                \n",
      "__________________________________________________________________________________________________\n",
      "expanded_conv_12/squeeze_excite (None, 1, 1, 168)    113064      expanded_conv_12/squeeze_excite/A\n",
      "__________________________________________________________________________________________________\n",
      "expanded_conv_12/squeeze_excite (None, 1, 1, 168)    0           expanded_conv_12/squeeze_excite/C\n",
      "__________________________________________________________________________________________________\n",
      "expanded_conv_12/squeeze_excite (None, 1, 1, 672)    113568      expanded_conv_12/squeeze_excite/R\n",
      "__________________________________________________________________________________________________\n",
      "tf.__operators__.add_20 (TFOpLa (None, 1, 1, 672)    0           expanded_conv_12/squeeze_excite/C\n",
      "__________________________________________________________________________________________________\n",
      "re_lu_31 (ReLU)                 (None, 1, 1, 672)    0           tf.__operators__.add_20[0][0]    \n",
      "__________________________________________________________________________________________________\n",
      "tf.math.multiply_20 (TFOpLambda (None, 1, 1, 672)    0           re_lu_31[0][0]                   \n",
      "__________________________________________________________________________________________________\n",
      "expanded_conv_12/squeeze_excite (None, 7, 7, 672)    0           multiply_14[0][0]                \n",
      "                                                                 tf.math.multiply_20[0][0]        \n",
      "__________________________________________________________________________________________________\n",
      "expanded_conv_12/project (Conv2 (None, 7, 7, 160)    107520      expanded_conv_12/squeeze_excite/M\n",
      "__________________________________________________________________________________________________\n",
      "expanded_conv_12/project/BatchN (None, 7, 7, 160)    640         expanded_conv_12/project[0][0]   \n",
      "__________________________________________________________________________________________________\n",
      "expanded_conv_13/expand (Conv2D (None, 7, 7, 960)    153600      expanded_conv_12/project/BatchNor\n",
      "__________________________________________________________________________________________________\n",
      "expanded_conv_13/expand/BatchNo (None, 7, 7, 960)    3840        expanded_conv_13/expand[0][0]    \n",
      "__________________________________________________________________________________________________\n",
      "tf.__operators__.add_21 (TFOpLa (None, 7, 7, 960)    0           expanded_conv_13/expand/BatchNorm\n",
      "__________________________________________________________________________________________________\n",
      "re_lu_32 (ReLU)                 (None, 7, 7, 960)    0           tf.__operators__.add_21[0][0]    \n",
      "__________________________________________________________________________________________________\n",
      "tf.math.multiply_21 (TFOpLambda (None, 7, 7, 960)    0           re_lu_32[0][0]                   \n",
      "__________________________________________________________________________________________________\n",
      "multiply_15 (Multiply)          (None, 7, 7, 960)    0           expanded_conv_13/expand/BatchNorm\n",
      "                                                                 tf.math.multiply_21[0][0]        \n",
      "__________________________________________________________________________________________________\n",
      "expanded_conv_13/depthwise (Dep (None, 7, 7, 960)    24000       multiply_15[0][0]                \n",
      "__________________________________________________________________________________________________\n",
      "expanded_conv_13/depthwise/Batc (None, 7, 7, 960)    3840        expanded_conv_13/depthwise[0][0] \n",
      "__________________________________________________________________________________________________\n",
      "tf.__operators__.add_22 (TFOpLa (None, 7, 7, 960)    0           expanded_conv_13/depthwise/BatchN\n",
      "__________________________________________________________________________________________________\n",
      "re_lu_33 (ReLU)                 (None, 7, 7, 960)    0           tf.__operators__.add_22[0][0]    \n",
      "__________________________________________________________________________________________________\n",
      "tf.math.multiply_22 (TFOpLambda (None, 7, 7, 960)    0           re_lu_33[0][0]                   \n",
      "__________________________________________________________________________________________________\n",
      "multiply_16 (Multiply)          (None, 7, 7, 960)    0           expanded_conv_13/depthwise/BatchN\n",
      "                                                                 tf.math.multiply_22[0][0]        \n",
      "__________________________________________________________________________________________________\n",
      "expanded_conv_13/squeeze_excite (None, 1, 1, 960)    0           multiply_16[0][0]                \n",
      "__________________________________________________________________________________________________\n",
      "expanded_conv_13/squeeze_excite (None, 1, 1, 240)    230640      expanded_conv_13/squeeze_excite/A\n",
      "__________________________________________________________________________________________________\n",
      "expanded_conv_13/squeeze_excite (None, 1, 1, 240)    0           expanded_conv_13/squeeze_excite/C\n",
      "__________________________________________________________________________________________________\n",
      "expanded_conv_13/squeeze_excite (None, 1, 1, 960)    231360      expanded_conv_13/squeeze_excite/R\n",
      "__________________________________________________________________________________________________\n",
      "tf.__operators__.add_23 (TFOpLa (None, 1, 1, 960)    0           expanded_conv_13/squeeze_excite/C\n",
      "__________________________________________________________________________________________________\n",
      "re_lu_34 (ReLU)                 (None, 1, 1, 960)    0           tf.__operators__.add_23[0][0]    \n",
      "__________________________________________________________________________________________________\n",
      "tf.math.multiply_23 (TFOpLambda (None, 1, 1, 960)    0           re_lu_34[0][0]                   \n",
      "__________________________________________________________________________________________________\n",
      "expanded_conv_13/squeeze_excite (None, 7, 7, 960)    0           multiply_16[0][0]                \n",
      "                                                                 tf.math.multiply_23[0][0]        \n",
      "__________________________________________________________________________________________________\n",
      "expanded_conv_13/project (Conv2 (None, 7, 7, 160)    153600      expanded_conv_13/squeeze_excite/M\n",
      "__________________________________________________________________________________________________\n",
      "expanded_conv_13/project/BatchN (None, 7, 7, 160)    640         expanded_conv_13/project[0][0]   \n",
      "__________________________________________________________________________________________________\n",
      "expanded_conv_13/Add (Add)      (None, 7, 7, 160)    0           expanded_conv_12/project/BatchNor\n",
      "                                                                 expanded_conv_13/project/BatchNor\n",
      "__________________________________________________________________________________________________\n",
      "expanded_conv_14/expand (Conv2D (None, 7, 7, 960)    153600      expanded_conv_13/Add[0][0]       \n",
      "__________________________________________________________________________________________________\n",
      "expanded_conv_14/expand/BatchNo (None, 7, 7, 960)    3840        expanded_conv_14/expand[0][0]    \n",
      "__________________________________________________________________________________________________\n",
      "tf.__operators__.add_24 (TFOpLa (None, 7, 7, 960)    0           expanded_conv_14/expand/BatchNorm\n",
      "__________________________________________________________________________________________________\n",
      "re_lu_35 (ReLU)                 (None, 7, 7, 960)    0           tf.__operators__.add_24[0][0]    \n",
      "__________________________________________________________________________________________________\n",
      "tf.math.multiply_24 (TFOpLambda (None, 7, 7, 960)    0           re_lu_35[0][0]                   \n",
      "__________________________________________________________________________________________________\n",
      "multiply_17 (Multiply)          (None, 7, 7, 960)    0           expanded_conv_14/expand/BatchNorm\n",
      "                                                                 tf.math.multiply_24[0][0]        \n",
      "__________________________________________________________________________________________________\n",
      "expanded_conv_14/depthwise (Dep (None, 7, 7, 960)    24000       multiply_17[0][0]                \n",
      "__________________________________________________________________________________________________\n",
      "expanded_conv_14/depthwise/Batc (None, 7, 7, 960)    3840        expanded_conv_14/depthwise[0][0] \n",
      "__________________________________________________________________________________________________\n",
      "tf.__operators__.add_25 (TFOpLa (None, 7, 7, 960)    0           expanded_conv_14/depthwise/BatchN\n",
      "__________________________________________________________________________________________________\n",
      "re_lu_36 (ReLU)                 (None, 7, 7, 960)    0           tf.__operators__.add_25[0][0]    \n",
      "__________________________________________________________________________________________________\n",
      "tf.math.multiply_25 (TFOpLambda (None, 7, 7, 960)    0           re_lu_36[0][0]                   \n",
      "__________________________________________________________________________________________________\n",
      "multiply_18 (Multiply)          (None, 7, 7, 960)    0           expanded_conv_14/depthwise/BatchN\n",
      "                                                                 tf.math.multiply_25[0][0]        \n",
      "__________________________________________________________________________________________________\n",
      "expanded_conv_14/squeeze_excite (None, 1, 1, 960)    0           multiply_18[0][0]                \n",
      "__________________________________________________________________________________________________\n",
      "expanded_conv_14/squeeze_excite (None, 1, 1, 240)    230640      expanded_conv_14/squeeze_excite/A\n",
      "__________________________________________________________________________________________________\n",
      "expanded_conv_14/squeeze_excite (None, 1, 1, 240)    0           expanded_conv_14/squeeze_excite/C\n",
      "__________________________________________________________________________________________________\n",
      "expanded_conv_14/squeeze_excite (None, 1, 1, 960)    231360      expanded_conv_14/squeeze_excite/R\n",
      "__________________________________________________________________________________________________\n",
      "tf.__operators__.add_26 (TFOpLa (None, 1, 1, 960)    0           expanded_conv_14/squeeze_excite/C\n",
      "__________________________________________________________________________________________________\n",
      "re_lu_37 (ReLU)                 (None, 1, 1, 960)    0           tf.__operators__.add_26[0][0]    \n",
      "__________________________________________________________________________________________________\n",
      "tf.math.multiply_26 (TFOpLambda (None, 1, 1, 960)    0           re_lu_37[0][0]                   \n",
      "__________________________________________________________________________________________________\n",
      "expanded_conv_14/squeeze_excite (None, 7, 7, 960)    0           multiply_18[0][0]                \n",
      "                                                                 tf.math.multiply_26[0][0]        \n",
      "__________________________________________________________________________________________________\n",
      "expanded_conv_14/project (Conv2 (None, 7, 7, 160)    153600      expanded_conv_14/squeeze_excite/M\n",
      "__________________________________________________________________________________________________\n",
      "expanded_conv_14/project/BatchN (None, 7, 7, 160)    640         expanded_conv_14/project[0][0]   \n",
      "__________________________________________________________________________________________________\n",
      "expanded_conv_14/Add (Add)      (None, 7, 7, 160)    0           expanded_conv_13/Add[0][0]       \n",
      "                                                                 expanded_conv_14/project/BatchNor\n",
      "__________________________________________________________________________________________________\n",
      "Conv_1 (Conv2D)                 (None, 7, 7, 960)    153600      expanded_conv_14/Add[0][0]       \n",
      "__________________________________________________________________________________________________\n",
      "Conv_1/BatchNorm (BatchNormaliz (None, 7, 7, 960)    3840        Conv_1[0][0]                     \n",
      "__________________________________________________________________________________________________\n",
      "tf.__operators__.add_27 (TFOpLa (None, 7, 7, 960)    0           Conv_1/BatchNorm[0][0]           \n",
      "__________________________________________________________________________________________________\n",
      "re_lu_38 (ReLU)                 (None, 7, 7, 960)    0           tf.__operators__.add_27[0][0]    \n",
      "__________________________________________________________________________________________________\n",
      "tf.math.multiply_27 (TFOpLambda (None, 7, 7, 960)    0           re_lu_38[0][0]                   \n",
      "__________________________________________________________________________________________________\n",
      "multiply_19 (Multiply)          (None, 7, 7, 960)    0           Conv_1/BatchNorm[0][0]           \n",
      "                                                                 tf.math.multiply_27[0][0]        \n",
      "__________________________________________________________________________________________________\n",
      "global_average_pooling2d (Globa (None, 1, 1, 960)    0           multiply_19[0][0]                \n",
      "__________________________________________________________________________________________________\n",
      "Conv_2 (Conv2D)                 (None, 1, 1, 1280)   1230080     global_average_pooling2d[0][0]   \n",
      "__________________________________________________________________________________________________\n",
      "tf.__operators__.add_28 (TFOpLa (None, 1, 1, 1280)   0           Conv_2[0][0]                     \n",
      "__________________________________________________________________________________________________\n",
      "re_lu_39 (ReLU)                 (None, 1, 1, 1280)   0           tf.__operators__.add_28[0][0]    \n",
      "__________________________________________________________________________________________________\n",
      "tf.math.multiply_28 (TFOpLambda (None, 1, 1, 1280)   0           re_lu_39[0][0]                   \n",
      "__________________________________________________________________________________________________\n",
      "multiply_20 (Multiply)          (None, 1, 1, 1280)   0           Conv_2[0][0]                     \n",
      "                                                                 tf.math.multiply_28[0][0]        \n",
      "__________________________________________________________________________________________________\n",
      "dropout (Dropout)               (None, 1, 1, 1280)   0           multiply_20[0][0]                \n",
      "__________________________________________________________________________________________________\n",
      "Logits (Conv2D)                 (None, 1, 1, 1000)   1281000     dropout[0][0]                    \n",
      "__________________________________________________________________________________________________\n",
      "flatten (Flatten)               (None, 1000)         0           Logits[0][0]                     \n",
      "__________________________________________________________________________________________________\n",
      "Predictions (Activation)        (None, 1000)         0           flatten[0][0]                    \n",
      "__________________________________________________________________________________________________\n",
      "dense (Dense)                   (None, 3)            3003        Predictions[0][0]                \n",
      "==================================================================================================\n",
      "Total params: 5,510,435\n",
      "Trainable params: 2,823,523\n",
      "Non-trainable params: 2,686,912\n",
      "__________________________________________________________________________________________________\n"
     ]
    }
   ],
   "source": [
    "new_model.summary()"
   ]
  },
  {
   "cell_type": "code",
   "execution_count": 7,
   "id": "8fcadd09",
   "metadata": {},
   "outputs": [
    {
     "name": "stdout",
     "output_type": "stream",
     "text": [
      "INFO:tensorflow:Assets written to: /home/romulo/Documents/IFRS/6Semestre/TCC_APP/novo_modelo/assets\n"
     ]
    },
    {
     "name": "stderr",
     "output_type": "stream",
     "text": [
      "/home/romulo/anaconda3/envs/tcc/lib/python3.6/site-packages/keras/utils/generic_utils.py:497: CustomMaskWarning: Custom mask layers require a config and must override get_config. When loading, the custom mask layer must be passed to the custom_objects argument.\n",
      "  category=CustomMaskWarning)\n"
     ]
    }
   ],
   "source": [
    "new_model.save('/home/romulo/Documents/IFRS/6Semestre/TCC_APP/novo_modelo')"
   ]
  },
  {
   "cell_type": "code",
   "execution_count": 7,
   "id": "283042d5",
   "metadata": {},
   "outputs": [
    {
     "ename": "ValueError",
     "evalue": "Please specify the \"origin\" argument (URL of the file to download).",
     "output_type": "error",
     "traceback": [
      "\u001b[0;31m---------------------------------------------------------------------------\u001b[0m",
      "\u001b[0;31mValueError\u001b[0m                                Traceback (most recent call last)",
      "\u001b[0;32m<ipython-input-7-4d2a4969e507>\u001b[0m in \u001b[0;36m<module>\u001b[0;34m\u001b[0m\n\u001b[1;32m      1\u001b[0m \u001b[0mimg_path\u001b[0m \u001b[0;34m=\u001b[0m \u001b[0;34m'/home/romulo/Documents/IFRS/6Semestre/TCC_APP/datasets/dataset_melhor/teste/residuo/aug-image-_0_2027.jpg'\u001b[0m\u001b[0;34m\u001b[0m\u001b[0;34m\u001b[0m\u001b[0m\n\u001b[0;32m----> 2\u001b[0;31m \u001b[0msunflower_path\u001b[0m \u001b[0;34m=\u001b[0m \u001b[0mtf\u001b[0m\u001b[0;34m.\u001b[0m\u001b[0mkeras\u001b[0m\u001b[0;34m.\u001b[0m\u001b[0mutils\u001b[0m\u001b[0;34m.\u001b[0m\u001b[0mget_file\u001b[0m\u001b[0;34m(\u001b[0m\u001b[0mimg_path\u001b[0m\u001b[0;34m)\u001b[0m\u001b[0;34m\u001b[0m\u001b[0;34m\u001b[0m\u001b[0m\n\u001b[0m",
      "\u001b[0;32m~/anaconda3/envs/tcc/lib/python3.6/site-packages/keras/utils/data_utils.py\u001b[0m in \u001b[0;36mget_file\u001b[0;34m(fname, origin, untar, md5_hash, file_hash, cache_subdir, hash_algorithm, extract, archive_format, cache_dir)\u001b[0m\n\u001b[1;32m    208\u001b[0m   \"\"\"\n\u001b[1;32m    209\u001b[0m   \u001b[0;32mif\u001b[0m \u001b[0morigin\u001b[0m \u001b[0;32mis\u001b[0m \u001b[0;32mNone\u001b[0m\u001b[0;34m:\u001b[0m\u001b[0;34m\u001b[0m\u001b[0;34m\u001b[0m\u001b[0m\n\u001b[0;32m--> 210\u001b[0;31m     raise ValueError('Please specify the \"origin\" argument (URL of the file '\n\u001b[0m\u001b[1;32m    211\u001b[0m                      'to download).')\n\u001b[1;32m    212\u001b[0m \u001b[0;34m\u001b[0m\u001b[0m\n",
      "\u001b[0;31mValueError\u001b[0m: Please specify the \"origin\" argument (URL of the file to download)."
     ]
    }
   ],
   "source": [
    "img_path = '/home/romulo/Documents/IFRS/6Semestre/TCC_APP/datasets/dataset_melhor/teste/residuo/aug-image-_0_2027.jpg'\n",
    "sunflower_path = tf.keras.utils.get_file(img_path, origin = '')"
   ]
  },
  {
   "cell_type": "code",
   "execution_count": null,
   "id": "bdc7befe",
   "metadata": {},
   "outputs": [],
   "source": [
    "new_model.predict()"
   ]
  }
 ],
 "metadata": {
  "kernelspec": {
   "display_name": "Python 3",
   "language": "python",
   "name": "python3"
  },
  "language_info": {
   "codemirror_mode": {
    "name": "ipython",
    "version": 3
   },
   "file_extension": ".py",
   "mimetype": "text/x-python",
   "name": "python",
   "nbconvert_exporter": "python",
   "pygments_lexer": "ipython3",
   "version": "3.6.13"
  }
 },
 "nbformat": 4,
 "nbformat_minor": 5
}
